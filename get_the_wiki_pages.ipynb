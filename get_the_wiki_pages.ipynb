{
 "cells": [
  {
   "cell_type": "code",
   "execution_count": 1,
   "metadata": {},
   "outputs": [],
   "source": [
    "import wikipedia\n",
    "import re\n",
    "import pandas as pd\n",
    "import time"
   ]
  },
  {
   "cell_type": "markdown",
   "metadata": {},
   "source": [
    "First we get csv files of the wikipedia page titles from 5 diffirent categories using this <a href = \"https://petscan.wmflabs.org\">api</a> \n",
    "\n",
    "The 5 categories used are:\n",
    "    -  Politics\n",
    "    -  Sports\n",
    "    -  History\n",
    "    -  Culture\n",
    "    -  Computer science"
   ]
  },
  {
   "cell_type": "markdown",
   "metadata": {},
   "source": [
    "I have got downloaded the table of wikipedia articles in each of the categories from <a href = \"https://petscan.wmflabs.org/\">this</a> api"
   ]
  },
  {
   "cell_type": "code",
   "execution_count": 2,
   "metadata": {},
   "outputs": [],
   "source": [
    "politics = pd.read_csv(\"Politics.csv\")\n",
    "sports = pd.read_csv(\"Sports.csv\")\n",
    "history = pd.read_csv(\"History.csv\")\n",
    "culture = pd.read_csv(\"Culture.csv\")\n",
    "comp_science = pd.read_csv(\"Computer_science.csv\")"
   ]
  },
  {
   "cell_type": "code",
   "execution_count": 3,
   "metadata": {},
   "outputs": [
    {
     "data": {
      "text/html": [
       "<div>\n",
       "<style scoped>\n",
       "    .dataframe tbody tr th:only-of-type {\n",
       "        vertical-align: middle;\n",
       "    }\n",
       "\n",
       "    .dataframe tbody tr th {\n",
       "        vertical-align: top;\n",
       "    }\n",
       "\n",
       "    .dataframe thead th {\n",
       "        text-align: right;\n",
       "    }\n",
       "</style>\n",
       "<table border=\"1\" class=\"dataframe\">\n",
       "  <thead>\n",
       "    <tr style=\"text-align: right;\">\n",
       "      <th></th>\n",
       "      <th>number</th>\n",
       "      <th>title</th>\n",
       "      <th>pageid</th>\n",
       "      <th>namespace</th>\n",
       "      <th>length</th>\n",
       "      <th>touched</th>\n",
       "    </tr>\n",
       "  </thead>\n",
       "  <tbody>\n",
       "    <tr>\n",
       "      <th>0</th>\n",
       "      <td>1</td>\n",
       "      <td>Antisemitism</td>\n",
       "      <td>1078</td>\n",
       "      <td>NaN</td>\n",
       "      <td>211152</td>\n",
       "      <td>20180324171338</td>\n",
       "    </tr>\n",
       "    <tr>\n",
       "      <th>1</th>\n",
       "      <td>2</td>\n",
       "      <td>Crony_capitalism</td>\n",
       "      <td>5249</td>\n",
       "      <td>NaN</td>\n",
       "      <td>38003</td>\n",
       "      <td>20180305205053</td>\n",
       "    </tr>\n",
       "    <tr>\n",
       "      <th>2</th>\n",
       "      <td>3</td>\n",
       "      <td>Classical_liberalism</td>\n",
       "      <td>6677</td>\n",
       "      <td>NaN</td>\n",
       "      <td>51315</td>\n",
       "      <td>20180321212302</td>\n",
       "    </tr>\n",
       "    <tr>\n",
       "      <th>3</th>\n",
       "      <td>4</td>\n",
       "      <td>Citizenship</td>\n",
       "      <td>6784</td>\n",
       "      <td>NaN</td>\n",
       "      <td>57974</td>\n",
       "      <td>20180323010834</td>\n",
       "    </tr>\n",
       "    <tr>\n",
       "      <th>4</th>\n",
       "      <td>5</td>\n",
       "      <td>Corporatocracy</td>\n",
       "      <td>6997</td>\n",
       "      <td>NaN</td>\n",
       "      <td>29355</td>\n",
       "      <td>20180311201059</td>\n",
       "    </tr>\n",
       "  </tbody>\n",
       "</table>\n",
       "</div>"
      ],
      "text/plain": [
       "   number                 title  pageid  namespace  length         touched\n",
       "0       1          Antisemitism    1078        NaN  211152  20180324171338\n",
       "1       2      Crony_capitalism    5249        NaN   38003  20180305205053\n",
       "2       3  Classical_liberalism    6677        NaN   51315  20180321212302\n",
       "3       4           Citizenship    6784        NaN   57974  20180323010834\n",
       "4       5        Corporatocracy    6997        NaN   29355  20180311201059"
      ]
     },
     "execution_count": 3,
     "metadata": {},
     "output_type": "execute_result"
    }
   ],
   "source": [
    "politics.head()"
   ]
  },
  {
   "cell_type": "markdown",
   "metadata": {},
   "source": [
    "## Removing extra columns"
   ]
  },
  {
   "cell_type": "code",
   "execution_count": 4,
   "metadata": {},
   "outputs": [],
   "source": [
    "politics.drop(['number', 'namespace', 'touched'], axis = 1, inplace=True)\n",
    "sports.drop(['number', 'namespace', 'touched'], axis = 1, inplace=True)\n",
    "history.drop(['number', 'namespace', 'touched'], axis = 1, inplace=True)\n",
    "culture.drop(['number', 'namespace', 'touched'], axis = 1, inplace=True)\n",
    "comp_science.drop(['number', 'namespace', 'touched'], axis = 1, inplace=True)"
   ]
  },
  {
   "cell_type": "code",
   "execution_count": 5,
   "metadata": {},
   "outputs": [
    {
     "data": {
      "text/html": [
       "<div>\n",
       "<style scoped>\n",
       "    .dataframe tbody tr th:only-of-type {\n",
       "        vertical-align: middle;\n",
       "    }\n",
       "\n",
       "    .dataframe tbody tr th {\n",
       "        vertical-align: top;\n",
       "    }\n",
       "\n",
       "    .dataframe thead th {\n",
       "        text-align: right;\n",
       "    }\n",
       "</style>\n",
       "<table border=\"1\" class=\"dataframe\">\n",
       "  <thead>\n",
       "    <tr style=\"text-align: right;\">\n",
       "      <th></th>\n",
       "      <th>title</th>\n",
       "      <th>pageid</th>\n",
       "      <th>length</th>\n",
       "    </tr>\n",
       "  </thead>\n",
       "  <tbody>\n",
       "    <tr>\n",
       "      <th>0</th>\n",
       "      <td>Antisemitism</td>\n",
       "      <td>1078</td>\n",
       "      <td>211152</td>\n",
       "    </tr>\n",
       "    <tr>\n",
       "      <th>1</th>\n",
       "      <td>Crony_capitalism</td>\n",
       "      <td>5249</td>\n",
       "      <td>38003</td>\n",
       "    </tr>\n",
       "    <tr>\n",
       "      <th>2</th>\n",
       "      <td>Classical_liberalism</td>\n",
       "      <td>6677</td>\n",
       "      <td>51315</td>\n",
       "    </tr>\n",
       "    <tr>\n",
       "      <th>3</th>\n",
       "      <td>Citizenship</td>\n",
       "      <td>6784</td>\n",
       "      <td>57974</td>\n",
       "    </tr>\n",
       "    <tr>\n",
       "      <th>4</th>\n",
       "      <td>Corporatocracy</td>\n",
       "      <td>6997</td>\n",
       "      <td>29355</td>\n",
       "    </tr>\n",
       "  </tbody>\n",
       "</table>\n",
       "</div>"
      ],
      "text/plain": [
       "                  title  pageid  length\n",
       "0          Antisemitism    1078  211152\n",
       "1      Crony_capitalism    5249   38003\n",
       "2  Classical_liberalism    6677   51315\n",
       "3           Citizenship    6784   57974\n",
       "4        Corporatocracy    6997   29355"
      ]
     },
     "execution_count": 5,
     "metadata": {},
     "output_type": "execute_result"
    }
   ],
   "source": [
    "politics.head()"
   ]
  },
  {
   "cell_type": "code",
   "execution_count": 6,
   "metadata": {},
   "outputs": [],
   "source": [
    "# N = 1000\n",
    "politics = politics.sort_values('length', ascending=False).reset_index().drop('index', axis=1)\n",
    "sports = sports.sort_values('length', ascending=False).reset_index().drop('index', axis=1)\n",
    "history = history.sort_values('length', ascending=False).reset_index().drop('index', axis=1)\n",
    "culture = culture.sort_values('length', ascending=False).reset_index().drop('index', axis=1)\n",
    "comp_science = comp_science.sort_values('length', ascending=False).reset_index().drop('index', axis=1)"
   ]
  },
  {
   "cell_type": "code",
   "execution_count": 7,
   "metadata": {},
   "outputs": [
    {
     "data": {
      "text/html": [
       "<div>\n",
       "<style scoped>\n",
       "    .dataframe tbody tr th:only-of-type {\n",
       "        vertical-align: middle;\n",
       "    }\n",
       "\n",
       "    .dataframe tbody tr th {\n",
       "        vertical-align: top;\n",
       "    }\n",
       "\n",
       "    .dataframe thead th {\n",
       "        text-align: right;\n",
       "    }\n",
       "</style>\n",
       "<table border=\"1\" class=\"dataframe\">\n",
       "  <thead>\n",
       "    <tr style=\"text-align: right;\">\n",
       "      <th></th>\n",
       "      <th>title</th>\n",
       "      <th>pageid</th>\n",
       "      <th>length</th>\n",
       "    </tr>\n",
       "  </thead>\n",
       "  <tbody>\n",
       "    <tr>\n",
       "      <th>0</th>\n",
       "      <td>Artificial_intelligence</td>\n",
       "      <td>1164</td>\n",
       "      <td>231620</td>\n",
       "    </tr>\n",
       "    <tr>\n",
       "      <th>1</th>\n",
       "      <td>Comparison_of_programming_languages_(string_fu...</td>\n",
       "      <td>3681422</td>\n",
       "      <td>109570</td>\n",
       "    </tr>\n",
       "    <tr>\n",
       "      <th>2</th>\n",
       "      <td>Geographic_information_system</td>\n",
       "      <td>12398</td>\n",
       "      <td>77692</td>\n",
       "    </tr>\n",
       "    <tr>\n",
       "      <th>3</th>\n",
       "      <td>Computational_creativity</td>\n",
       "      <td>16300571</td>\n",
       "      <td>61153</td>\n",
       "    </tr>\n",
       "    <tr>\n",
       "      <th>4</th>\n",
       "      <td>Computational_phylogenetics</td>\n",
       "      <td>3986130</td>\n",
       "      <td>58742</td>\n",
       "    </tr>\n",
       "  </tbody>\n",
       "</table>\n",
       "</div>"
      ],
      "text/plain": [
       "                                               title    pageid  length\n",
       "0                            Artificial_intelligence      1164  231620\n",
       "1  Comparison_of_programming_languages_(string_fu...   3681422  109570\n",
       "2                      Geographic_information_system     12398   77692\n",
       "3                           Computational_creativity  16300571   61153\n",
       "4                        Computational_phylogenetics   3986130   58742"
      ]
     },
     "execution_count": 7,
     "metadata": {},
     "output_type": "execute_result"
    }
   ],
   "source": [
    "comp_science.head()"
   ]
  },
  {
   "cell_type": "code",
   "execution_count": 8,
   "metadata": {},
   "outputs": [
    {
     "data": {
      "text/plain": [
       "(1171, 3)"
      ]
     },
     "execution_count": 8,
     "metadata": {},
     "output_type": "execute_result"
    }
   ],
   "source": [
    "comp_science.shape"
   ]
  },
  {
   "cell_type": "code",
   "execution_count": 9,
   "metadata": {},
   "outputs": [],
   "source": [
    "#replacing underlines with space in the title. This is compatible with the format of the titles in wikimedia api\n",
    "def correct_title(category):\n",
    "    category['title'] = category['title'].map(lambda x: re.sub('_', ' ', x))"
   ]
  },
  {
   "cell_type": "code",
   "execution_count": 10,
   "metadata": {},
   "outputs": [],
   "source": [
    "correct_title(politics)\n",
    "correct_title(sports)\n",
    "correct_title(history)\n",
    "correct_title(culture)\n",
    "correct_title(comp_science)"
   ]
  },
  {
   "cell_type": "markdown",
   "metadata": {},
   "source": [
    "## Adding the content column\n",
    "For adding the raw content of each page I will use <a href = \"https://pypi.python.org/pypi/wikipedia\">wikipedia</a> library. This library uses the <a href = \"https://www.mediawiki.org/wiki/API:Main_page\">wikimedia</a> api directly and by querying the page title it will return the raw content of the page."
   ]
  },
  {
   "cell_type": "code",
   "execution_count": 19,
   "metadata": {},
   "outputs": [],
   "source": [
    "def add_contents(category):\n",
    "    content = []\n",
    "    indicies = []\n",
    "    counter = 0\n",
    "    ind = 0\n",
    "    while len(content) < 1000 or ind >= len(list(category['title'])):\n",
    "        counter += 1\n",
    "        title = list(category['title'])[ind]\n",
    "        try:\n",
    "            p = wikipedia.page(title)\n",
    "            content.append(p.content)\n",
    "            indicies.append(ind)\n",
    "            ind += 1\n",
    "            if counter == 10:\n",
    "                time.sleep(10)\n",
    "                counter = 0\n",
    "                print(ind)\n",
    "        except wikipedia.exceptions.PageError: \n",
    "            ind += 1\n",
    "        except wikipedia.exceptions.DisambiguationError:\n",
    "            ind += 1\n",
    "        except wikipedia.exceptions.RedirectError:\n",
    "            ind += 1\n",
    "        except Exception:\n",
    "            time.sleep(10)\n",
    "    result = category.loc[indicies]\n",
    "    result['content'] = content\n",
    "    return result"
   ]
  },
  {
   "cell_type": "markdown",
   "metadata": {},
   "source": [
    "Since getting 1000 pages for each category takes some time (this is due to the exceptions that the api throws, for instance when the connection is lost, etc), this part has been done in another script (get_wiki_content.py)"
   ]
  }
 ],
 "metadata": {
  "kernelspec": {
   "display_name": "Python 3",
   "language": "python",
   "name": "python3"
  },
  "language_info": {
   "codemirror_mode": {
    "name": "ipython",
    "version": 3
   },
   "file_extension": ".py",
   "mimetype": "text/x-python",
   "name": "python",
   "nbconvert_exporter": "python",
   "pygments_lexer": "ipython3",
   "version": "3.6.1"
  }
 },
 "nbformat": 4,
 "nbformat_minor": 2
}
