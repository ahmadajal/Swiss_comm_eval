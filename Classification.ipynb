{
 "cells": [
  {
   "cell_type": "code",
   "execution_count": 10,
   "metadata": {},
   "outputs": [],
   "source": [
    "import pandas as pd\n",
    "import numpy as np"
   ]
  },
  {
   "cell_type": "code",
   "execution_count": 13,
   "metadata": {},
   "outputs": [],
   "source": [
    "politics_data = pd.read_csv(\"politics_full.csv\")\n",
    "sports_data = pd.read_csv(\"sports_full.csv\")\n",
    "history_data = pd.read_csv(\"history_full.csv\")\n",
    "culture_data = pd.read_csv(\"culture_full.csv\")\n",
    "comp_science_data = pd.read_csv(\"comp_science_full.csv\")"
   ]
  },
  {
   "cell_type": "code",
   "execution_count": 15,
   "metadata": {},
   "outputs": [
    {
     "data": {
      "text/html": [
       "<div>\n",
       "<style scoped>\n",
       "    .dataframe tbody tr th:only-of-type {\n",
       "        vertical-align: middle;\n",
       "    }\n",
       "\n",
       "    .dataframe tbody tr th {\n",
       "        vertical-align: top;\n",
       "    }\n",
       "\n",
       "    .dataframe thead th {\n",
       "        text-align: right;\n",
       "    }\n",
       "</style>\n",
       "<table border=\"1\" class=\"dataframe\">\n",
       "  <thead>\n",
       "    <tr style=\"text-align: right;\">\n",
       "      <th></th>\n",
       "      <th>Unnamed: 0</th>\n",
       "      <th>title</th>\n",
       "      <th>pageid</th>\n",
       "      <th>length</th>\n",
       "      <th>content</th>\n",
       "    </tr>\n",
       "  </thead>\n",
       "  <tbody>\n",
       "    <tr>\n",
       "      <th>0</th>\n",
       "      <td>0</td>\n",
       "      <td>Newspaper endorsements in the United States pr...</td>\n",
       "      <td>51202493</td>\n",
       "      <td>523778</td>\n",
       "      <td>Various notable newspapers made endorsements o...</td>\n",
       "    </tr>\n",
       "    <tr>\n",
       "      <th>1</th>\n",
       "      <td>1</td>\n",
       "      <td>Timeline of 1960s counterculture</td>\n",
       "      <td>45684607</td>\n",
       "      <td>421412</td>\n",
       "      <td>The following is a chronological capsule histo...</td>\n",
       "    </tr>\n",
       "    <tr>\n",
       "      <th>2</th>\n",
       "      <td>2</td>\n",
       "      <td>Antisemitism</td>\n",
       "      <td>1078</td>\n",
       "      <td>211152</td>\n",
       "      <td>Antisemitism (also spelled anti-Semitism or an...</td>\n",
       "    </tr>\n",
       "    <tr>\n",
       "      <th>3</th>\n",
       "      <td>3</td>\n",
       "      <td>Libertarianism</td>\n",
       "      <td>3225498</td>\n",
       "      <td>172434</td>\n",
       "      <td>Libertarianism (from Latin: libertas, meaning ...</td>\n",
       "    </tr>\n",
       "    <tr>\n",
       "      <th>4</th>\n",
       "      <td>4</td>\n",
       "      <td>List of scandals with \\-gate\\\" suffix\"</td>\n",
       "      <td>243541</td>\n",
       "      <td>163074</td>\n",
       "      <td>This is a list of scandals or controversies wh...</td>\n",
       "    </tr>\n",
       "  </tbody>\n",
       "</table>\n",
       "</div>"
      ],
      "text/plain": [
       "   Unnamed: 0                                              title    pageid  \\\n",
       "0           0  Newspaper endorsements in the United States pr...  51202493   \n",
       "1           1                   Timeline of 1960s counterculture  45684607   \n",
       "2           2                                       Antisemitism      1078   \n",
       "3           3                                     Libertarianism   3225498   \n",
       "4           4             List of scandals with \\-gate\\\" suffix\"    243541   \n",
       "\n",
       "   length                                            content  \n",
       "0  523778  Various notable newspapers made endorsements o...  \n",
       "1  421412  The following is a chronological capsule histo...  \n",
       "2  211152  Antisemitism (also spelled anti-Semitism or an...  \n",
       "3  172434  Libertarianism (from Latin: libertas, meaning ...  \n",
       "4  163074  This is a list of scandals or controversies wh...  "
      ]
     },
     "execution_count": 15,
     "metadata": {},
     "output_type": "execute_result"
    }
   ],
   "source": [
    "politics_data.head()"
   ]
  },
  {
   "cell_type": "code",
   "execution_count": null,
   "metadata": {},
   "outputs": [],
   "source": []
  }
 ],
 "metadata": {
  "kernelspec": {
   "display_name": "Python 3",
   "language": "python",
   "name": "python3"
  },
  "language_info": {
   "codemirror_mode": {
    "name": "ipython",
    "version": 3
   },
   "file_extension": ".py",
   "mimetype": "text/x-python",
   "name": "python",
   "nbconvert_exporter": "python",
   "pygments_lexer": "ipython3",
   "version": "3.6.4"
  }
 },
 "nbformat": 4,
 "nbformat_minor": 2
}
