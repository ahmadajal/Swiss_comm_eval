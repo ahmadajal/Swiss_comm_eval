{
 "cells": [
  {
   "cell_type": "code",
   "execution_count": 1,
   "metadata": {},
   "outputs": [],
   "source": [
    "import pandas as pd\n",
    "import numpy as np\n",
    "import matplotlib.pyplot as plt\n",
    "import seaborn as sns\n",
    "from sklearn.datasets import fetch_20newsgroups\n",
    "from sklearn.feature_extraction.text import TfidfVectorizer\n",
    "import os\n",
    "import json\n",
    "import re\n",
    "import string\n",
    "# fix random seed for reproducibility\n",
    "np.random.seed(7)\n",
    "%matplotlib inline  \n",
    "%load_ext autoreload\n",
    "%autoreload 2"
   ]
  },
  {
   "cell_type": "markdown",
   "metadata": {},
   "source": [
    "Loading the wikipedia pages articles "
   ]
  },
  {
   "cell_type": "code",
   "execution_count": 2,
   "metadata": {},
   "outputs": [],
   "source": [
    "politics_data = pd.read_csv(\"politics_full.csv\")\n",
    "sports_data = pd.read_csv(\"sports_full.csv\")\n",
    "history_data = pd.read_csv(\"history_full.csv\")\n",
    "culture_data = pd.read_csv(\"culture_full.csv\")\n",
    "comp_science_data = pd.read_csv(\"comp_science_full.csv\")"
   ]
  },
  {
   "cell_type": "markdown",
   "metadata": {},
   "source": [
    "Mapping different categories to integers"
   ]
  },
  {
   "cell_type": "code",
   "execution_count": 3,
   "metadata": {},
   "outputs": [],
   "source": [
    "category_dict = {\n",
    "    1: 'politics',\n",
    "    2: 'sports',\n",
    "    3: 'history',\n",
    "    4: 'culture',\n",
    "    5: 'computer_science'\n",
    "}"
   ]
  },
  {
   "cell_type": "markdown",
   "metadata": {},
   "source": [
    "Removing newlines and punctuations from raw content of the pages"
   ]
  },
  {
   "cell_type": "code",
   "execution_count": 4,
   "metadata": {},
   "outputs": [],
   "source": [
    "translator = str.maketrans('', '', string.punctuation)\n",
    "politics_data['content'] = politics_data['content'].map(lambda x: re.sub('\\n', ' ', x))\\\n",
    ".map(lambda x: x.translate(translator))\n",
    "politics_data['category'] = [1]* len(politics_data)\n",
    "\n",
    "sports_data['content'] = sports_data['content'].map(lambda x: re.sub('\\n', ' ', x))\\\n",
    ".map(lambda x: x.translate(translator))\n",
    "sports_data['category'] = [2]* len(sports_data)\n",
    "\n",
    "history_data['content'] = history_data['content'].map(lambda x: re.sub('\\n', ' ', x))\\\n",
    ".map(lambda x: x.translate(translator))\n",
    "history_data['category'] = [3]* len(history_data)\n",
    "\n",
    "culture_data['content'] = culture_data['content'].map(lambda x: re.sub('\\n', ' ', x))\\\n",
    ".map(lambda x: x.translate(translator))\n",
    "culture_data['category'] = [4]* len(culture_data)\n",
    "\n",
    "comp_science_data['content'] = comp_science_data['content'].map(lambda x: re.sub('\\n', ' ', x))\\\n",
    ".map(lambda x: x.translate(translator))\n",
    "comp_science_data['category'] = [5]* len(comp_science_data)\n"
   ]
  },
  {
   "cell_type": "code",
   "execution_count": 5,
   "metadata": {},
   "outputs": [
    {
     "data": {
      "text/html": [
       "<div>\n",
       "<style scoped>\n",
       "    .dataframe tbody tr th:only-of-type {\n",
       "        vertical-align: middle;\n",
       "    }\n",
       "\n",
       "    .dataframe tbody tr th {\n",
       "        vertical-align: top;\n",
       "    }\n",
       "\n",
       "    .dataframe thead th {\n",
       "        text-align: right;\n",
       "    }\n",
       "</style>\n",
       "<table border=\"1\" class=\"dataframe\">\n",
       "  <thead>\n",
       "    <tr style=\"text-align: right;\">\n",
       "      <th></th>\n",
       "      <th>Unnamed: 0</th>\n",
       "      <th>title</th>\n",
       "      <th>pageid</th>\n",
       "      <th>length</th>\n",
       "      <th>content</th>\n",
       "      <th>category</th>\n",
       "    </tr>\n",
       "  </thead>\n",
       "  <tbody>\n",
       "    <tr>\n",
       "      <th>0</th>\n",
       "      <td>0</td>\n",
       "      <td>Artificial intelligence</td>\n",
       "      <td>1164</td>\n",
       "      <td>231620</td>\n",
       "      <td>Artificial intelligence AI also machine intell...</td>\n",
       "      <td>5</td>\n",
       "    </tr>\n",
       "    <tr>\n",
       "      <th>1</th>\n",
       "      <td>1</td>\n",
       "      <td>Comparison of programming languages (string fu...</td>\n",
       "      <td>3681422</td>\n",
       "      <td>109570</td>\n",
       "      <td>String functions are used in computer programm...</td>\n",
       "      <td>5</td>\n",
       "    </tr>\n",
       "    <tr>\n",
       "      <th>2</th>\n",
       "      <td>2</td>\n",
       "      <td>Geographic information system</td>\n",
       "      <td>12398</td>\n",
       "      <td>77692</td>\n",
       "      <td>A geographic information system GIS is a syste...</td>\n",
       "      <td>5</td>\n",
       "    </tr>\n",
       "    <tr>\n",
       "      <th>3</th>\n",
       "      <td>3</td>\n",
       "      <td>Computational creativity</td>\n",
       "      <td>16300571</td>\n",
       "      <td>61153</td>\n",
       "      <td>Computational creativity also known as artific...</td>\n",
       "      <td>5</td>\n",
       "    </tr>\n",
       "    <tr>\n",
       "      <th>4</th>\n",
       "      <td>4</td>\n",
       "      <td>Computational phylogenetics</td>\n",
       "      <td>3986130</td>\n",
       "      <td>58742</td>\n",
       "      <td>Computational phylogenetics is the application...</td>\n",
       "      <td>5</td>\n",
       "    </tr>\n",
       "  </tbody>\n",
       "</table>\n",
       "</div>"
      ],
      "text/plain": [
       "   Unnamed: 0                                              title    pageid  \\\n",
       "0           0                            Artificial intelligence      1164   \n",
       "1           1  Comparison of programming languages (string fu...   3681422   \n",
       "2           2                      Geographic information system     12398   \n",
       "3           3                           Computational creativity  16300571   \n",
       "4           4                        Computational phylogenetics   3986130   \n",
       "\n",
       "   length                                            content  category  \n",
       "0  231620  Artificial intelligence AI also machine intell...         5  \n",
       "1  109570  String functions are used in computer programm...         5  \n",
       "2   77692  A geographic information system GIS is a syste...         5  \n",
       "3   61153  Computational creativity also known as artific...         5  \n",
       "4   58742  Computational phylogenetics is the application...         5  "
      ]
     },
     "execution_count": 5,
     "metadata": {},
     "output_type": "execute_result"
    }
   ],
   "source": [
    "comp_science_data.head()"
   ]
  },
  {
   "cell_type": "markdown",
   "metadata": {},
   "source": [
    "Union the 5 dataframes and make a new dataframe"
   ]
  },
  {
   "cell_type": "code",
   "execution_count": 6,
   "metadata": {},
   "outputs": [],
   "source": [
    "#union data frames\n",
    "df_list = [politics_data, sports_data, history_data, culture_data, comp_science_data]\n",
    "full_df = pd.concat(df_list)"
   ]
  },
  {
   "cell_type": "code",
   "execution_count": 7,
   "metadata": {},
   "outputs": [],
   "source": [
    "#shuffling the rows of dataframe\n",
    "full_df = full_df.sample(frac=1)"
   ]
  },
  {
   "cell_type": "code",
   "execution_count": 8,
   "metadata": {},
   "outputs": [],
   "source": [
    "contents = list(full_df['content'])\n",
    "targets = np.array(full_df['category'])"
   ]
  },
  {
   "cell_type": "markdown",
   "metadata": {},
   "source": [
    "making the TF IDF matrix of the documents. We choose to remove the words that appear in less than 5 documnets in the corpus."
   ]
  },
  {
   "cell_type": "code",
   "execution_count": 9,
   "metadata": {},
   "outputs": [
    {
     "data": {
      "text/plain": [
       "(5000, 31700)"
      ]
     },
     "execution_count": 9,
     "metadata": {},
     "output_type": "execute_result"
    }
   ],
   "source": [
    "vectorizer = TfidfVectorizer(stop_words='english', min_df=5)\n",
    "#vectorizer = TfidfVectorizer()\n",
    "vectors = vectorizer.fit_transform(contents)\n",
    "vectors.shape"
   ]
  },
  {
   "cell_type": "markdown",
   "metadata": {},
   "source": [
    "As we can see the resulting matrix is relatively sparse"
   ]
  },
  {
   "cell_type": "code",
   "execution_count": 10,
   "metadata": {},
   "outputs": [
    {
     "name": "stdout",
     "output_type": "stream",
     "text": [
      "total number of zeros: 1505991\n",
      "301.1982 average zero per data sample\n"
     ]
    }
   ],
   "source": [
    "print('total number of zeros:', vectors.nnz)\n",
    "print('{} average zero per data sample'.format(vectors.nnz / float(vectors.shape[0])))"
   ]
  },
  {
   "cell_type": "markdown",
   "metadata": {},
   "source": [
    "It is desirable to have equal number of samples in both training and test corpus. So we first shuffle the indicies for each of the classes and then we pick 90% data from each of the classes for training and 10% for testing."
   ]
  },
  {
   "cell_type": "code",
   "execution_count": 11,
   "metadata": {},
   "outputs": [],
   "source": [
    "indicies_1 = [i for i,x in enumerate(targets) if x == 1]\n",
    "np.random.shuffle(indicies_1)\n",
    "indicies_2 = [i for i,x in enumerate(targets) if x == 2]\n",
    "np.random.shuffle(indicies_2)\n",
    "indicies_3 = [i for i,x in enumerate(targets) if x == 3]\n",
    "np.random.shuffle(indicies_3)\n",
    "indicies_4 = [i for i,x in enumerate(targets) if x == 4]\n",
    "np.random.shuffle(indicies_4)\n",
    "indicies_5 = [i for i,x in enumerate(targets) if x == 5]\n",
    "np.random.shuffle(indicies_5)"
   ]
  },
  {
   "cell_type": "code",
   "execution_count": 12,
   "metadata": {},
   "outputs": [],
   "source": [
    "ratio = 0.9\n",
    "train_indicies = indicies_1[0:int(ratio*len(indicies_1))]\\\n",
    "+indicies_2[0:int(ratio*len(indicies_2))]+indicies_3[0:int(ratio*len(indicies_3))]\\\n",
    "+indicies_4[0:int(ratio*len(indicies_4))]+indicies_5[0:int(ratio*len(indicies_5))]\n",
    "np.random.shuffle(train_indicies)"
   ]
  },
  {
   "cell_type": "code",
   "execution_count": 13,
   "metadata": {},
   "outputs": [],
   "source": [
    "test_indicies = indicies_1[int(ratio*len(indicies_1)):]\\\n",
    "+indicies_2[int(ratio*len(indicies_2)):]+indicies_3[int(ratio*len(indicies_3)):]\\\n",
    "+indicies_4[int(ratio*len(indicies_4)):]+indicies_5[int(ratio*len(indicies_5)):]\n",
    "np.random.shuffle(test_indicies)"
   ]
  },
  {
   "cell_type": "markdown",
   "metadata": {},
   "source": [
    "final training and test vectors"
   ]
  },
  {
   "cell_type": "code",
   "execution_count": 14,
   "metadata": {},
   "outputs": [],
   "source": [
    "train_vectors = vectors[train_indicies]\n",
    "test_vectors = vectors[test_indicies]\n",
    "#------------\n",
    "train_targets = targets[train_indicies]\n",
    "test_targets = targets[test_indicies]"
   ]
  },
  {
   "cell_type": "code",
   "execution_count": 15,
   "metadata": {},
   "outputs": [
    {
     "data": {
      "text/plain": [
       "['00', '000', '0000', '001', '007']"
      ]
     },
     "execution_count": 15,
     "metadata": {},
     "output_type": "execute_result"
    }
   ],
   "source": [
    "feature_names = vectorizer.get_feature_names()\n",
    "feature_names[:5]"
   ]
  },
  {
   "cell_type": "markdown",
   "metadata": {},
   "source": [
    "## Random forest Classifier"
   ]
  },
  {
   "cell_type": "markdown",
   "metadata": {},
   "source": [
    "Fisrt we choose to train a random forest classifier"
   ]
  },
  {
   "cell_type": "code",
   "execution_count": 160,
   "metadata": {},
   "outputs": [
    {
     "data": {
      "text/plain": [
       "RandomForestClassifier(bootstrap=True, class_weight=None, criterion='gini',\n",
       "            max_depth=None, max_features='auto', max_leaf_nodes=None,\n",
       "            min_impurity_decrease=0.0, min_impurity_split=None,\n",
       "            min_samples_leaf=1, min_samples_split=2,\n",
       "            min_weight_fraction_leaf=0.0, n_estimators=10, n_jobs=-1,\n",
       "            oob_score=False, random_state=None, verbose=0,\n",
       "            warm_start=False)"
      ]
     },
     "execution_count": 160,
     "metadata": {},
     "output_type": "execute_result"
    }
   ],
   "source": [
    "from sklearn.ensemble import RandomForestClassifier\n",
    "RFclassifier = RandomForestClassifier(n_jobs=-1)\n",
    "RFclassifier.fit(train_vectors,train_targets)"
   ]
  },
  {
   "cell_type": "code",
   "execution_count": 161,
   "metadata": {},
   "outputs": [],
   "source": [
    "test_res = RFclassifier.predict(test_vectors)"
   ]
  },
  {
   "cell_type": "code",
   "execution_count": 162,
   "metadata": {},
   "outputs": [
    {
     "name": "stdout",
     "output_type": "stream",
     "text": [
      "accuracy = 74.6%\n"
     ]
    }
   ],
   "source": [
    "accuracy = np.mean([test_res[i]==test_targets[i] for i in range(len(test_targets))])\n",
    "print('accuracy = {}%'.format(accuracy*100))"
   ]
  },
  {
   "cell_type": "markdown",
   "metadata": {},
   "source": [
    "Hyperparameter tuning for Random Forest parameters"
   ]
  },
  {
   "cell_type": "code",
   "execution_count": 163,
   "metadata": {},
   "outputs": [
    {
     "data": {
      "text/plain": [
       "GridSearchCV(cv=None, error_score='raise',\n",
       "       estimator=RandomForestClassifier(bootstrap=True, class_weight=None, criterion='gini',\n",
       "            max_depth=None, max_features='auto', max_leaf_nodes=None,\n",
       "            min_impurity_decrease=0.0, min_impurity_split=None,\n",
       "            min_samples_leaf=1, min_samples_split=2,\n",
       "            min_weight_fraction_leaf=0.0, n_estimators=10, n_jobs=-1,\n",
       "            oob_score=False, random_state=None, verbose=0,\n",
       "            warm_start=False),\n",
       "       fit_params=None, iid=True, n_jobs=-1,\n",
       "       param_grid={'n_estimators': [100, 200, 300, 400, 500, 600, 700, 800, 900, 1000], 'max_depth': [50, 60, 70, 80, 90]},\n",
       "       pre_dispatch='2*n_jobs', refit=True, return_train_score='warn',\n",
       "       scoring=None, verbose=0)"
      ]
     },
     "execution_count": 163,
     "metadata": {},
     "output_type": "execute_result"
    }
   ],
   "source": [
    "from sklearn.model_selection import GridSearchCV, cross_val_score\n",
    "n_estimator = [i for i in range(100,1100,100)]\n",
    "max_depth = [i for i in range(50,100,10)]\n",
    "clf = GridSearchCV(estimator=RFclassifier, param_grid={'n_estimators':n_estimator,'max_depth':max_depth},n_jobs=-1)\n",
    "clf.fit(train_vectors,train_targets)"
   ]
  },
  {
   "cell_type": "markdown",
   "metadata": {},
   "source": [
    "The dataframe below shows the best train and test score and their associated parameters"
   ]
  },
  {
   "cell_type": "code",
   "execution_count": 164,
   "metadata": {},
   "outputs": [
    {
     "name": "stderr",
     "output_type": "stream",
     "text": [
      "/home/ajalloei/.conda/envs/ahmad_virtualenv/lib/python3.6/site-packages/sklearn/utils/deprecation.py:122: FutureWarning: You are accessing a training score ('mean_train_score'), which will not be available by default any more in 0.21. If you need training scores, please set return_train_score=True\n",
      "  warnings.warn(*warn_args, **warn_kwargs)\n",
      "/home/ajalloei/.conda/envs/ahmad_virtualenv/lib/python3.6/site-packages/sklearn/utils/deprecation.py:122: FutureWarning: You are accessing a training score ('split0_train_score'), which will not be available by default any more in 0.21. If you need training scores, please set return_train_score=True\n",
      "  warnings.warn(*warn_args, **warn_kwargs)\n",
      "/home/ajalloei/.conda/envs/ahmad_virtualenv/lib/python3.6/site-packages/sklearn/utils/deprecation.py:122: FutureWarning: You are accessing a training score ('split1_train_score'), which will not be available by default any more in 0.21. If you need training scores, please set return_train_score=True\n",
      "  warnings.warn(*warn_args, **warn_kwargs)\n",
      "/home/ajalloei/.conda/envs/ahmad_virtualenv/lib/python3.6/site-packages/sklearn/utils/deprecation.py:122: FutureWarning: You are accessing a training score ('split2_train_score'), which will not be available by default any more in 0.21. If you need training scores, please set return_train_score=True\n",
      "  warnings.warn(*warn_args, **warn_kwargs)\n",
      "/home/ajalloei/.conda/envs/ahmad_virtualenv/lib/python3.6/site-packages/sklearn/utils/deprecation.py:122: FutureWarning: You are accessing a training score ('std_train_score'), which will not be available by default any more in 0.21. If you need training scores, please set return_train_score=True\n",
      "  warnings.warn(*warn_args, **warn_kwargs)\n"
     ]
    },
    {
     "data": {
      "text/html": [
       "<div>\n",
       "<style scoped>\n",
       "    .dataframe tbody tr th:only-of-type {\n",
       "        vertical-align: middle;\n",
       "    }\n",
       "\n",
       "    .dataframe tbody tr th {\n",
       "        vertical-align: top;\n",
       "    }\n",
       "\n",
       "    .dataframe thead th {\n",
       "        text-align: right;\n",
       "    }\n",
       "</style>\n",
       "<table border=\"1\" class=\"dataframe\">\n",
       "  <thead>\n",
       "    <tr style=\"text-align: right;\">\n",
       "      <th></th>\n",
       "      <th>mean_fit_time</th>\n",
       "      <th>mean_score_time</th>\n",
       "      <th>mean_test_score</th>\n",
       "      <th>mean_train_score</th>\n",
       "      <th>param_max_depth</th>\n",
       "      <th>param_n_estimators</th>\n",
       "      <th>params</th>\n",
       "      <th>rank_test_score</th>\n",
       "      <th>split0_test_score</th>\n",
       "      <th>split0_train_score</th>\n",
       "      <th>split1_test_score</th>\n",
       "      <th>split1_train_score</th>\n",
       "      <th>split2_test_score</th>\n",
       "      <th>split2_train_score</th>\n",
       "      <th>std_fit_time</th>\n",
       "      <th>std_score_time</th>\n",
       "      <th>std_test_score</th>\n",
       "      <th>std_train_score</th>\n",
       "    </tr>\n",
       "  </thead>\n",
       "  <tbody>\n",
       "    <tr>\n",
       "      <th>29</th>\n",
       "      <td>163.670287</td>\n",
       "      <td>7.145987</td>\n",
       "      <td>0.821556</td>\n",
       "      <td>0.990333</td>\n",
       "      <td>70</td>\n",
       "      <td>1000</td>\n",
       "      <td>{'max_depth': 70, 'n_estimators': 1000}</td>\n",
       "      <td>1</td>\n",
       "      <td>0.814667</td>\n",
       "      <td>0.992333</td>\n",
       "      <td>0.823333</td>\n",
       "      <td>0.990333</td>\n",
       "      <td>0.826667</td>\n",
       "      <td>0.988333</td>\n",
       "      <td>11.686875</td>\n",
       "      <td>1.077985</td>\n",
       "      <td>0.005058</td>\n",
       "      <td>0.001633</td>\n",
       "    </tr>\n",
       "    <tr>\n",
       "      <th>8</th>\n",
       "      <td>125.858999</td>\n",
       "      <td>6.559073</td>\n",
       "      <td>0.821111</td>\n",
       "      <td>0.989222</td>\n",
       "      <td>50</td>\n",
       "      <td>900</td>\n",
       "      <td>{'max_depth': 50, 'n_estimators': 900}</td>\n",
       "      <td>2</td>\n",
       "      <td>0.813333</td>\n",
       "      <td>0.991667</td>\n",
       "      <td>0.825333</td>\n",
       "      <td>0.990000</td>\n",
       "      <td>0.824667</td>\n",
       "      <td>0.986000</td>\n",
       "      <td>1.134310</td>\n",
       "      <td>0.123111</td>\n",
       "      <td>0.005506</td>\n",
       "      <td>0.002378</td>\n",
       "    </tr>\n",
       "    <tr>\n",
       "      <th>9</th>\n",
       "      <td>150.759535</td>\n",
       "      <td>7.794189</td>\n",
       "      <td>0.821111</td>\n",
       "      <td>0.989111</td>\n",
       "      <td>50</td>\n",
       "      <td>1000</td>\n",
       "      <td>{'max_depth': 50, 'n_estimators': 1000}</td>\n",
       "      <td>2</td>\n",
       "      <td>0.814667</td>\n",
       "      <td>0.991667</td>\n",
       "      <td>0.823333</td>\n",
       "      <td>0.989667</td>\n",
       "      <td>0.825333</td>\n",
       "      <td>0.986000</td>\n",
       "      <td>7.780510</td>\n",
       "      <td>0.247463</td>\n",
       "      <td>0.004629</td>\n",
       "      <td>0.002347</td>\n",
       "    </tr>\n",
       "    <tr>\n",
       "      <th>16</th>\n",
       "      <td>119.400220</td>\n",
       "      <td>5.967087</td>\n",
       "      <td>0.821111</td>\n",
       "      <td>0.989778</td>\n",
       "      <td>60</td>\n",
       "      <td>700</td>\n",
       "      <td>{'max_depth': 60, 'n_estimators': 700}</td>\n",
       "      <td>2</td>\n",
       "      <td>0.814000</td>\n",
       "      <td>0.992000</td>\n",
       "      <td>0.830000</td>\n",
       "      <td>0.990333</td>\n",
       "      <td>0.819333</td>\n",
       "      <td>0.987000</td>\n",
       "      <td>5.114454</td>\n",
       "      <td>0.159478</td>\n",
       "      <td>0.006652</td>\n",
       "      <td>0.002079</td>\n",
       "    </tr>\n",
       "    <tr>\n",
       "      <th>18</th>\n",
       "      <td>157.372489</td>\n",
       "      <td>7.499259</td>\n",
       "      <td>0.820889</td>\n",
       "      <td>0.989778</td>\n",
       "      <td>60</td>\n",
       "      <td>900</td>\n",
       "      <td>{'max_depth': 60, 'n_estimators': 900}</td>\n",
       "      <td>5</td>\n",
       "      <td>0.814667</td>\n",
       "      <td>0.992000</td>\n",
       "      <td>0.826667</td>\n",
       "      <td>0.990333</td>\n",
       "      <td>0.821333</td>\n",
       "      <td>0.987000</td>\n",
       "      <td>2.454800</td>\n",
       "      <td>0.460805</td>\n",
       "      <td>0.004909</td>\n",
       "      <td>0.002079</td>\n",
       "    </tr>\n",
       "  </tbody>\n",
       "</table>\n",
       "</div>"
      ],
      "text/plain": [
       "    mean_fit_time  mean_score_time  mean_test_score  mean_train_score  \\\n",
       "29     163.670287         7.145987         0.821556          0.990333   \n",
       "8      125.858999         6.559073         0.821111          0.989222   \n",
       "9      150.759535         7.794189         0.821111          0.989111   \n",
       "16     119.400220         5.967087         0.821111          0.989778   \n",
       "18     157.372489         7.499259         0.820889          0.989778   \n",
       "\n",
       "   param_max_depth param_n_estimators  \\\n",
       "29              70               1000   \n",
       "8               50                900   \n",
       "9               50               1000   \n",
       "16              60                700   \n",
       "18              60                900   \n",
       "\n",
       "                                     params  rank_test_score  \\\n",
       "29  {'max_depth': 70, 'n_estimators': 1000}                1   \n",
       "8    {'max_depth': 50, 'n_estimators': 900}                2   \n",
       "9   {'max_depth': 50, 'n_estimators': 1000}                2   \n",
       "16   {'max_depth': 60, 'n_estimators': 700}                2   \n",
       "18   {'max_depth': 60, 'n_estimators': 900}                5   \n",
       "\n",
       "    split0_test_score  split0_train_score  split1_test_score  \\\n",
       "29           0.814667            0.992333           0.823333   \n",
       "8            0.813333            0.991667           0.825333   \n",
       "9            0.814667            0.991667           0.823333   \n",
       "16           0.814000            0.992000           0.830000   \n",
       "18           0.814667            0.992000           0.826667   \n",
       "\n",
       "    split1_train_score  split2_test_score  split2_train_score  std_fit_time  \\\n",
       "29            0.990333           0.826667            0.988333     11.686875   \n",
       "8             0.990000           0.824667            0.986000      1.134310   \n",
       "9             0.989667           0.825333            0.986000      7.780510   \n",
       "16            0.990333           0.819333            0.987000      5.114454   \n",
       "18            0.990333           0.821333            0.987000      2.454800   \n",
       "\n",
       "    std_score_time  std_test_score  std_train_score  \n",
       "29        1.077985        0.005058         0.001633  \n",
       "8         0.123111        0.005506         0.002378  \n",
       "9         0.247463        0.004629         0.002347  \n",
       "16        0.159478        0.006652         0.002079  \n",
       "18        0.460805        0.004909         0.002079  "
      ]
     },
     "execution_count": 164,
     "metadata": {},
     "output_type": "execute_result"
    }
   ],
   "source": [
    "df = pd.DataFrame(clf.cv_results_)\n",
    "df.sort_values('rank_test_score',inplace=True)\n",
    "df.head()"
   ]
  },
  {
   "cell_type": "code",
   "execution_count": 165,
   "metadata": {},
   "outputs": [
    {
     "data": {
      "text/plain": [
       "RandomForestClassifier(bootstrap=True, class_weight=None, criterion='gini',\n",
       "            max_depth=70, max_features='auto', max_leaf_nodes=None,\n",
       "            min_impurity_decrease=0.0, min_impurity_split=None,\n",
       "            min_samples_leaf=1, min_samples_split=2,\n",
       "            min_weight_fraction_leaf=0.0, n_estimators=1000, n_jobs=-1,\n",
       "            oob_score=False, random_state=None, verbose=0,\n",
       "            warm_start=False)"
      ]
     },
     "execution_count": 165,
     "metadata": {},
     "output_type": "execute_result"
    }
   ],
   "source": [
    "best_RFclassifier = RandomForestClassifier(n_estimators=1000, max_depth=70, n_jobs=-1)\n",
    "best_RFclassifier.fit(train_vectors,train_targets)"
   ]
  },
  {
   "cell_type": "code",
   "execution_count": 173,
   "metadata": {},
   "outputs": [
    {
     "name": "stdout",
     "output_type": "stream",
     "text": [
      "accuracy for best RF classifier = 82.8%\n"
     ]
    }
   ],
   "source": [
    "print('accuracy for best RF classifier = {}%'.format(best_RFclassifier.score(test_vectors, test_targets)*100))"
   ]
  },
  {
   "cell_type": "markdown",
   "metadata": {},
   "source": [
    "## Naive Bayes Classifier"
   ]
  },
  {
   "cell_type": "markdown",
   "metadata": {},
   "source": [
    "Second classifier is Multinomial Naive Classifier"
   ]
  },
  {
   "cell_type": "code",
   "execution_count": 198,
   "metadata": {},
   "outputs": [],
   "source": [
    "from sklearn.naive_bayes import MultinomialNB\n",
    "clf = MultinomialNB().fit(train_vectors, train_targets)"
   ]
  },
  {
   "cell_type": "code",
   "execution_count": 199,
   "metadata": {},
   "outputs": [
    {
     "name": "stdout",
     "output_type": "stream",
     "text": [
      "accuracy for Multinomial Naive Bayes classifier = 84.0%\n"
     ]
    }
   ],
   "source": [
    "print('accuracy for Multinomial Naive Bayes classifier = {}%'.format(clf.score(test_vectors, test_targets)*100))"
   ]
  },
  {
   "cell_type": "markdown",
   "metadata": {},
   "source": [
    "Tuning $\\alpha $ parameter for the classifier"
   ]
  },
  {
   "cell_type": "code",
   "execution_count": 208,
   "metadata": {},
   "outputs": [
    {
     "data": {
      "text/plain": [
       "GridSearchCV(cv=10, error_score='raise',\n",
       "       estimator=MultinomialNB(alpha=1.0, class_prior=None, fit_prior=True),\n",
       "       fit_params=None, iid=True, n_jobs=-1,\n",
       "       param_grid={'alpha': [0.1, 0.2, 0.3, 0.4, 0.5, 0.6, 0.7, 0.8, 0.9, 1.0, 1.1, 1.2, 1.3, 1.4, 1.5, 1.6, 1.7, 1.8, 1.9]},\n",
       "       pre_dispatch='2*n_jobs', refit=True, return_train_score=True,\n",
       "       scoring=None, verbose=0)"
      ]
     },
     "execution_count": 208,
     "metadata": {},
     "output_type": "execute_result"
    }
   ],
   "source": [
    "alpha = [i/10 for i in range(1,20,1)]\n",
    "clf = GridSearchCV(estimator=MultinomialNB(), param_grid={'alpha':alpha},n_jobs=-1, cv=10, return_train_score=True)\n",
    "clf.fit(train_vectors,train_targets)"
   ]
  },
  {
   "cell_type": "code",
   "execution_count": 209,
   "metadata": {},
   "outputs": [
    {
     "data": {
      "text/html": [
       "<div>\n",
       "<style scoped>\n",
       "    .dataframe tbody tr th:only-of-type {\n",
       "        vertical-align: middle;\n",
       "    }\n",
       "\n",
       "    .dataframe tbody tr th {\n",
       "        vertical-align: top;\n",
       "    }\n",
       "\n",
       "    .dataframe thead th {\n",
       "        text-align: right;\n",
       "    }\n",
       "</style>\n",
       "<table border=\"1\" class=\"dataframe\">\n",
       "  <thead>\n",
       "    <tr style=\"text-align: right;\">\n",
       "      <th></th>\n",
       "      <th>mean_fit_time</th>\n",
       "      <th>mean_score_time</th>\n",
       "      <th>mean_test_score</th>\n",
       "      <th>mean_train_score</th>\n",
       "      <th>param_alpha</th>\n",
       "      <th>params</th>\n",
       "      <th>rank_test_score</th>\n",
       "      <th>split0_test_score</th>\n",
       "      <th>split0_train_score</th>\n",
       "      <th>split1_test_score</th>\n",
       "      <th>...</th>\n",
       "      <th>split7_test_score</th>\n",
       "      <th>split7_train_score</th>\n",
       "      <th>split8_test_score</th>\n",
       "      <th>split8_train_score</th>\n",
       "      <th>split9_test_score</th>\n",
       "      <th>split9_train_score</th>\n",
       "      <th>std_fit_time</th>\n",
       "      <th>std_score_time</th>\n",
       "      <th>std_test_score</th>\n",
       "      <th>std_train_score</th>\n",
       "    </tr>\n",
       "  </thead>\n",
       "  <tbody>\n",
       "    <tr>\n",
       "      <th>1</th>\n",
       "      <td>0.337634</td>\n",
       "      <td>0.010722</td>\n",
       "      <td>0.845778</td>\n",
       "      <td>0.933333</td>\n",
       "      <td>0.2</td>\n",
       "      <td>{'alpha': 0.2}</td>\n",
       "      <td>1</td>\n",
       "      <td>0.866667</td>\n",
       "      <td>0.933333</td>\n",
       "      <td>0.853333</td>\n",
       "      <td>...</td>\n",
       "      <td>0.853333</td>\n",
       "      <td>0.931605</td>\n",
       "      <td>0.831111</td>\n",
       "      <td>0.934074</td>\n",
       "      <td>0.851111</td>\n",
       "      <td>0.933086</td>\n",
       "      <td>0.023646</td>\n",
       "      <td>0.002840</td>\n",
       "      <td>0.012500</td>\n",
       "      <td>0.001059</td>\n",
       "    </tr>\n",
       "    <tr>\n",
       "      <th>0</th>\n",
       "      <td>0.236525</td>\n",
       "      <td>0.008792</td>\n",
       "      <td>0.843333</td>\n",
       "      <td>0.940889</td>\n",
       "      <td>0.1</td>\n",
       "      <td>{'alpha': 0.1}</td>\n",
       "      <td>2</td>\n",
       "      <td>0.860000</td>\n",
       "      <td>0.940741</td>\n",
       "      <td>0.851111</td>\n",
       "      <td>...</td>\n",
       "      <td>0.848889</td>\n",
       "      <td>0.938272</td>\n",
       "      <td>0.831111</td>\n",
       "      <td>0.940000</td>\n",
       "      <td>0.848889</td>\n",
       "      <td>0.940247</td>\n",
       "      <td>0.105323</td>\n",
       "      <td>0.004253</td>\n",
       "      <td>0.010669</td>\n",
       "      <td>0.001646</td>\n",
       "    </tr>\n",
       "    <tr>\n",
       "      <th>2</th>\n",
       "      <td>0.307943</td>\n",
       "      <td>0.011466</td>\n",
       "      <td>0.842889</td>\n",
       "      <td>0.927333</td>\n",
       "      <td>0.3</td>\n",
       "      <td>{'alpha': 0.3}</td>\n",
       "      <td>3</td>\n",
       "      <td>0.866667</td>\n",
       "      <td>0.927654</td>\n",
       "      <td>0.842222</td>\n",
       "      <td>...</td>\n",
       "      <td>0.855556</td>\n",
       "      <td>0.925679</td>\n",
       "      <td>0.824444</td>\n",
       "      <td>0.927901</td>\n",
       "      <td>0.842222</td>\n",
       "      <td>0.927654</td>\n",
       "      <td>0.019358</td>\n",
       "      <td>0.002061</td>\n",
       "      <td>0.012998</td>\n",
       "      <td>0.001018</td>\n",
       "    </tr>\n",
       "    <tr>\n",
       "      <th>3</th>\n",
       "      <td>0.295297</td>\n",
       "      <td>0.012531</td>\n",
       "      <td>0.840000</td>\n",
       "      <td>0.922123</td>\n",
       "      <td>0.4</td>\n",
       "      <td>{'alpha': 0.4}</td>\n",
       "      <td>4</td>\n",
       "      <td>0.862222</td>\n",
       "      <td>0.923951</td>\n",
       "      <td>0.833333</td>\n",
       "      <td>...</td>\n",
       "      <td>0.853333</td>\n",
       "      <td>0.920000</td>\n",
       "      <td>0.817778</td>\n",
       "      <td>0.922222</td>\n",
       "      <td>0.833333</td>\n",
       "      <td>0.923210</td>\n",
       "      <td>0.023494</td>\n",
       "      <td>0.001517</td>\n",
       "      <td>0.013481</td>\n",
       "      <td>0.001750</td>\n",
       "    </tr>\n",
       "    <tr>\n",
       "      <th>4</th>\n",
       "      <td>0.229445</td>\n",
       "      <td>0.008891</td>\n",
       "      <td>0.838222</td>\n",
       "      <td>0.917654</td>\n",
       "      <td>0.5</td>\n",
       "      <td>{'alpha': 0.5}</td>\n",
       "      <td>5</td>\n",
       "      <td>0.851111</td>\n",
       "      <td>0.918519</td>\n",
       "      <td>0.835556</td>\n",
       "      <td>...</td>\n",
       "      <td>0.851111</td>\n",
       "      <td>0.915802</td>\n",
       "      <td>0.820000</td>\n",
       "      <td>0.918272</td>\n",
       "      <td>0.831111</td>\n",
       "      <td>0.919012</td>\n",
       "      <td>0.091586</td>\n",
       "      <td>0.003984</td>\n",
       "      <td>0.010968</td>\n",
       "      <td>0.001185</td>\n",
       "    </tr>\n",
       "  </tbody>\n",
       "</table>\n",
       "<p>5 rows × 31 columns</p>\n",
       "</div>"
      ],
      "text/plain": [
       "   mean_fit_time  mean_score_time  mean_test_score  mean_train_score  \\\n",
       "1       0.337634         0.010722         0.845778          0.933333   \n",
       "0       0.236525         0.008792         0.843333          0.940889   \n",
       "2       0.307943         0.011466         0.842889          0.927333   \n",
       "3       0.295297         0.012531         0.840000          0.922123   \n",
       "4       0.229445         0.008891         0.838222          0.917654   \n",
       "\n",
       "  param_alpha          params  rank_test_score  split0_test_score  \\\n",
       "1         0.2  {'alpha': 0.2}                1           0.866667   \n",
       "0         0.1  {'alpha': 0.1}                2           0.860000   \n",
       "2         0.3  {'alpha': 0.3}                3           0.866667   \n",
       "3         0.4  {'alpha': 0.4}                4           0.862222   \n",
       "4         0.5  {'alpha': 0.5}                5           0.851111   \n",
       "\n",
       "   split0_train_score  split1_test_score       ...         split7_test_score  \\\n",
       "1            0.933333           0.853333       ...                  0.853333   \n",
       "0            0.940741           0.851111       ...                  0.848889   \n",
       "2            0.927654           0.842222       ...                  0.855556   \n",
       "3            0.923951           0.833333       ...                  0.853333   \n",
       "4            0.918519           0.835556       ...                  0.851111   \n",
       "\n",
       "   split7_train_score  split8_test_score  split8_train_score  \\\n",
       "1            0.931605           0.831111            0.934074   \n",
       "0            0.938272           0.831111            0.940000   \n",
       "2            0.925679           0.824444            0.927901   \n",
       "3            0.920000           0.817778            0.922222   \n",
       "4            0.915802           0.820000            0.918272   \n",
       "\n",
       "   split9_test_score  split9_train_score  std_fit_time  std_score_time  \\\n",
       "1           0.851111            0.933086      0.023646        0.002840   \n",
       "0           0.848889            0.940247      0.105323        0.004253   \n",
       "2           0.842222            0.927654      0.019358        0.002061   \n",
       "3           0.833333            0.923210      0.023494        0.001517   \n",
       "4           0.831111            0.919012      0.091586        0.003984   \n",
       "\n",
       "   std_test_score  std_train_score  \n",
       "1        0.012500         0.001059  \n",
       "0        0.010669         0.001646  \n",
       "2        0.012998         0.001018  \n",
       "3        0.013481         0.001750  \n",
       "4        0.010968         0.001185  \n",
       "\n",
       "[5 rows x 31 columns]"
      ]
     },
     "execution_count": 209,
     "metadata": {},
     "output_type": "execute_result"
    }
   ],
   "source": [
    "df = pd.DataFrame(clf.cv_results_)\n",
    "df.sort_values('rank_test_score',inplace=True)\n",
    "df.head()"
   ]
  },
  {
   "cell_type": "code",
   "execution_count": 212,
   "metadata": {},
   "outputs": [
    {
     "name": "stdout",
     "output_type": "stream",
     "text": [
      "accuracy for best Multinomial Naive Bayes classifier = 84.8%\n"
     ]
    }
   ],
   "source": [
    "best_NB = MultinomialNB(alpha=0.2).fit(train_vectors, train_targets)\n",
    "print('accuracy for best Multinomial Naive Bayes classifier = {}%'.format(best_NB.score(test_vectors, test_targets)*100))"
   ]
  },
  {
   "cell_type": "markdown",
   "metadata": {},
   "source": [
    "## Logistic Regression"
   ]
  },
  {
   "cell_type": "markdown",
   "metadata": {},
   "source": [
    "Training a multiclass Logestic Regression for the task. We use the Logistic Regression cross validation function. The rgularization parameter will vary between $10ˆ{-4}$ and $10ˆ{4}$. We choose to have 20 different values in this interval"
   ]
  },
  {
   "cell_type": "code",
   "execution_count": 215,
   "metadata": {},
   "outputs": [
    {
     "data": {
      "text/plain": [
       "LogisticRegressionCV(Cs=20, class_weight=None, cv=None, dual=False,\n",
       "           fit_intercept=True, intercept_scaling=1.0, max_iter=100,\n",
       "           multi_class='multinomial', n_jobs=-1, penalty='l2',\n",
       "           random_state=None, refit=True, scoring=None, solver='lbfgs',\n",
       "           tol=0.0001, verbose=0)"
      ]
     },
     "execution_count": 215,
     "metadata": {},
     "output_type": "execute_result"
    }
   ],
   "source": [
    "from sklearn.linear_model import LogisticRegressionCV\n",
    "clf = LogisticRegressionCV(Cs=20, multi_class='multinomial', n_jobs=-1)\n",
    "clf.fit(train_vectors, train_targets)"
   ]
  },
  {
   "cell_type": "code",
   "execution_count": 248,
   "metadata": {},
   "outputs": [
    {
     "name": "stdout",
     "output_type": "stream",
     "text": [
      "accuracy for best Logistic Regression classifier = 87.8%\n"
     ]
    }
   ],
   "source": [
    "print('accuracy for best Logistic Regression classifier = {}%'.format(clf.score(test_vectors, test_targets)*100))"
   ]
  },
  {
   "cell_type": "code",
   "execution_count": 236,
   "metadata": {},
   "outputs": [],
   "source": [
    "scors = np.concatenate((np.mean(clf.scores_[1], axis = 0), np.mean(clf.scores_[2], axis = 0)\n",
    "                        , np.mean(clf.scores_[3], axis = 0), np.mean(clf.scores_[4], axis = 0)\n",
    "                        , np.mean(clf.scores_[5], axis = 0)), axis=0)\n",
    "scors = scors.reshape((5,20))"
   ]
  },
  {
   "cell_type": "code",
   "execution_count": 241,
   "metadata": {},
   "outputs": [
    {
     "data": {
      "image/png": "[encoded data removed]",
      "text/plain": [
       "<matplotlib.figure.Figure at 0x7f365c1506a0>"
      ]
     },
     "metadata": {},
     "output_type": "display_data"
    }
   ],
   "source": [
    "plt.semilogx(clf.Cs_, np.mean(scors, axis=0))\n",
    "plt.show()\n"
   ]
  },
  {
   "cell_type": "code",
   "execution_count": 249,
   "metadata": {},
   "outputs": [],
   "source": [
    "from sklearn.metrics import confusion_matrix\n",
    "test_res = clf.predict(test_vectors)\n",
    "cnf_matrix = confusion_matrix(test_targets, test_res)"
   ]
  },
  {
   "cell_type": "code",
   "execution_count": 252,
   "metadata": {},
   "outputs": [
    {
     "name": "stdout",
     "output_type": "stream",
     "text": [
      "Confusion matrix, without normalization\n"
     ]
    },
    {
     "data": {
      "image/png": "[encoded data removed]",
      "text/plain": [
       "<matplotlib.figure.Figure at 0x7f35dc091f60>"
      ]
     },
     "metadata": {},
     "output_type": "display_data"
    }
   ],
   "source": [
    "import itertools\n",
    "def plot_confusion_matrix(cm, classes,\n",
    "                          normalize=False,\n",
    "                          title='Confusion matrix',\n",
    "                          cmap=plt.cm.Blues):\n",
    "    \"\"\"\n",
    "    This function prints and plots the confusion matrix.\n",
    "    Normalization can be applied by setting `normalize=True`.\n",
    "    \"\"\"\n",
    "    if normalize:\n",
    "        cm = cm.astype('float') / cm.sum(axis=1)[:, np.newaxis]\n",
    "        print(\"Normalized confusion matrix\")\n",
    "    else:\n",
    "        print('Confusion matrix, without normalization')\n",
    "\n",
    "\n",
    "    plt.imshow(cm, interpolation='nearest', cmap=cmap)\n",
    "    plt.title(title)\n",
    "    plt.colorbar()\n",
    "    tick_marks = np.arange(len(category_dict))\n",
    "    plt.xticks(tick_marks, category_dict.values(), rotation=90,fontsize=12)\n",
    "    plt.yticks(tick_marks, category_dict.values(), fontsize=12)\n",
    "\n",
    "    fmt = '.2f' if normalize else 'd'\n",
    "    thresh = cm.max() / 2.\n",
    "    for i, j in itertools.product(range(cm.shape[0]), range(cm.shape[1])):\n",
    "        plt.text(j, i, format(cm[i, j], fmt),\n",
    "                 horizontalalignment=\"center\",\n",
    "                 color=\"white\" if cm[i, j] > thresh else \"black\")\n",
    "\n",
    "    plt.tight_layout()\n",
    "    plt.ylabel('True label',fontsize = 15)\n",
    "    plt.xlabel('Predicted label',fontsize = 15)\n",
    "plt.figure(figsize=(10,10))\n",
    "plot_confusion_matrix(cnf_matrix, classes=newsgroups.target_names,\n",
    "                      title='Confusion matrix, without normalization')"
   ]
  },
  {
   "cell_type": "markdown",
   "metadata": {},
   "source": [
    "The confusion matrix show wich classes where misclassified with each other. As expected similar categories (culture, politics and history) were misclassified mostly."
   ]
  },
  {
   "cell_type": "markdown",
   "metadata": {},
   "source": [
    "## Deep Learning"
   ]
  },
  {
   "cell_type": "markdown",
   "metadata": {},
   "source": [
    "We start the deep learning part here. We will use Keras library on Tensorflow backend."
   ]
  },
  {
   "cell_type": "code",
   "execution_count": 16,
   "metadata": {},
   "outputs": [
    {
     "name": "stderr",
     "output_type": "stream",
     "text": [
      "/home/ajalloei/.conda/envs/ahmad_virtualenv/lib/python3.6/site-packages/h5py/__init__.py:36: FutureWarning: Conversion of the second argument of issubdtype from `float` to `np.floating` is deprecated. In future, it will be treated as `np.float64 == np.dtype(float).type`.\n",
      "  from ._conv import register_converters as _register_converters\n",
      "Using TensorFlow backend.\n"
     ]
    }
   ],
   "source": [
    "import keras\n",
    "import tensorflow"
   ]
  },
  {
   "cell_type": "code",
   "execution_count": 17,
   "metadata": {},
   "outputs": [],
   "source": [
    "from gensim.models import Word2Vec"
   ]
  },
  {
   "cell_type": "markdown",
   "metadata": {},
   "source": [
    "For the deep learning part we will use word embeddings as they are proved to give better results compared to one hot word vectors. So we start to tokenize the text again with nltk library and remove the stop words. We also lower case all of the words."
   ]
  },
  {
   "cell_type": "code",
   "execution_count": 18,
   "metadata": {},
   "outputs": [],
   "source": [
    "import nltk\n",
    "tokenized = [nltk.word_tokenize(text) for text in contents]"
   ]
  },
  {
   "cell_type": "code",
   "execution_count": 19,
   "metadata": {},
   "outputs": [],
   "source": [
    "from nltk.corpus import stopwords\n",
    "# punctuation = string.punctuation+'“’—.”’“--,”' # pimp the list of punctuation to remove\n",
    "def rem_stop(txt,stop_words=stopwords.words(\"english\"),lower=True):\n",
    "    \"\"\"\n",
    "    Removes stopwords and other things from a text, inc. numbers\n",
    "    :param list txt: text tokens (list of str)\n",
    "    :param list stop_words: stopwords to remove (list of str)\n",
    "    :param bol lower: if to lowercase\n",
    "    \"\"\"\n",
    "    if lower:\n",
    "        return [t.lower() for t in txt if t.lower() not in stop_words and not t.isdigit()]\n",
    "    else:\n",
    "        return [t for t in txt if t.lower() not in stop_words and not t.isdigit()]"
   ]
  },
  {
   "cell_type": "code",
   "execution_count": 20,
   "metadata": {},
   "outputs": [],
   "source": [
    "corpus = [rem_stop(tokens) for tokens in tokenized]"
   ]
  },
  {
   "cell_type": "markdown",
   "metadata": {},
   "source": []
  },
  {
   "cell_type": "code",
   "execution_count": 21,
   "metadata": {},
   "outputs": [],
   "source": [
    "embedding_model = Word2Vec(corpus, size=100, window=5, min_count=1, workers=-1, iter=200)"
   ]
  },
  {
   "cell_type": "code",
   "execution_count": 435,
   "metadata": {},
   "outputs": [
    {
     "data": {
      "text/plain": [
       "[('post1970s', 0.45103001594543457),\n",
       " ('lacierda', 0.4451066255569458),\n",
       " ('forgacs', 0.4363461434841156),\n",
       " ('repealing', 0.4331750273704529),\n",
       " ('interregnums', 0.4275933504104614),\n",
       " ('u818', 0.421070396900177),\n",
       " ('abcdef', 0.4119409918785095),\n",
       " ('doi10100735404755597', 0.39712589979171753),\n",
       " ('welsch', 0.396402508020401),\n",
       " ('commandinchief', 0.391961932182312)]"
      ]
     },
     "execution_count": 435,
     "metadata": {},
     "output_type": "execute_result"
    }
   ],
   "source": [
    "embedding_model.wv.most_similar(positive=['france', 'paris'], negative=['germany'])"
   ]
  },
  {
   "cell_type": "code",
   "execution_count": 22,
   "metadata": {},
   "outputs": [],
   "source": [
    "from keras.preprocessing.text import Tokenizer\n",
    "from keras.preprocessing.sequence import pad_sequences\n",
    "from keras.models import Sequential, Model\n",
    "from keras.layers import Input, Dense, Embedding, LSTM, Conv1D, Flatten, Dropout\n",
    "from keras.layers.merge import Concatenate, concatenate\n",
    "from keras.layers.convolutional import Convolution1D, MaxPooling1D\n",
    "from keras.utils.np_utils import to_categorical\n",
    "from keras.callbacks import ModelCheckpoint\n",
    "from keras.models import load_model\n",
    "from keras.optimizers import Adam\n",
    "from keras.callbacks import ModelCheckpoint\n",
    "from keras.models import load_model"
   ]
  },
  {
   "cell_type": "code",
   "execution_count": 23,
   "metadata": {},
   "outputs": [
    {
     "name": "stdout",
     "output_type": "stream",
     "text": [
      "Found 175282 unique tokens.\n",
      "Shape of data tensor: (5000, 5000)\n",
      "Shape of label tensor: (5000, 5)\n"
     ]
    }
   ],
   "source": [
    "MAX_SEQUENCE_LENGTH = 5000\n",
    "tokenizer = Tokenizer()\n",
    "tokenizer.fit_on_texts(corpus)\n",
    "sequences = tokenizer.texts_to_sequences(corpus)\n",
    "\n",
    "# 0 is a reserved index that won't be assigned to any word\n",
    "word_index = tokenizer.word_index\n",
    "print('Found %s unique tokens.' % len(word_index))\n",
    "\n",
    "data = pad_sequences(sequences, maxlen=MAX_SEQUENCE_LENGTH)\n",
    "\n",
    "labels = to_categorical(np.asarray(targets-1))\n",
    "print('Shape of data tensor:', data.shape)\n",
    "print('Shape of label tensor:', labels.shape)"
   ]
  },
  {
   "cell_type": "code",
   "execution_count": 24,
   "metadata": {},
   "outputs": [
    {
     "data": {
      "text/plain": [
       "175282"
      ]
     },
     "execution_count": 24,
     "metadata": {},
     "output_type": "execute_result"
    }
   ],
   "source": [
    "len(embedding_model.wv.vocab.keys())"
   ]
  },
  {
   "cell_type": "code",
   "execution_count": 25,
   "metadata": {},
   "outputs": [],
   "source": [
    "x_train = data[train_indicies]\n",
    "y_train = labels[train_indicies]\n",
    "x_test = data[test_indicies]\n",
    "y_test = labels[test_indicies]"
   ]
  },
  {
   "cell_type": "code",
   "execution_count": 440,
   "metadata": {},
   "outputs": [],
   "source": [
    "# EMBEDDING_DIM = 100\n",
    "# embedding_matrix = np.zeros((len(word_index) + 1, EMBEDDING_DIM))\n",
    "# for word, i in word_index.items():\n",
    "#     embedding_vector = embedding_model.wv.vocab.get(word)\n",
    "#     if embedding_vector is not None:\n",
    "#         # words not found in embedding index will be all-zeros.\n",
    "#         embedding_matrix[i] = embedding_model.wv[word]"
   ]
  },
  {
   "cell_type": "code",
   "execution_count": 26,
   "metadata": {},
   "outputs": [
    {
     "name": "stdout",
     "output_type": "stream",
     "text": [
      "Found 400000 word vectors.\n"
     ]
    }
   ],
   "source": [
    "embeddings_index = {}\n",
    "f = open('glove.6B.100d.txt')\n",
    "for line in f:\n",
    "    values = line.split()\n",
    "    word = values[0]\n",
    "    coefs = np.asarray(values[1:], dtype='float32')\n",
    "    embeddings_index[word] = coefs\n",
    "f.close()\n",
    "\n",
    "print('Found %s word vectors.' % len(embeddings_index))"
   ]
  },
  {
   "cell_type": "code",
   "execution_count": 27,
   "metadata": {},
   "outputs": [],
   "source": [
    "EMBEDDING_DIM = 100\n",
    "embedding_matrix = np.zeros((len(word_index) + 1, EMBEDDING_DIM))\n",
    "for word, i in word_index.items():\n",
    "    embedding_vector = embeddings_index.get(word)\n",
    "    if embedding_vector is not None:\n",
    "        # words not found in embedding index will be all-zeros.\n",
    "        embedding_matrix[i] = embedding_vector"
   ]
  },
  {
   "cell_type": "code",
   "execution_count": 28,
   "metadata": {},
   "outputs": [],
   "source": [
    "embedding_layer = Embedding(len(word_index) + 1,\n",
    "                            EMBEDDING_DIM,\n",
    "                            weights=[embedding_matrix],\n",
    "                            input_length=MAX_SEQUENCE_LENGTH,\n",
    "                            trainable=True)"
   ]
  },
  {
   "cell_type": "code",
   "execution_count": 472,
   "metadata": {},
   "outputs": [],
   "source": [
    "ckpt_callback = ModelCheckpoint('keras_model', \n",
    "                                 monitor='val_loss', \n",
    "                                 verbose=1, \n",
    "                                 save_best_only=True, \n",
    "                                 mode='auto')"
   ]
  },
  {
   "cell_type": "code",
   "execution_count": 473,
   "metadata": {
    "scrolled": false
   },
   "outputs": [
    {
     "name": "stdout",
     "output_type": "stream",
     "text": [
      "Train on 4050 samples, validate on 450 samples\n",
      "Epoch 1/10\n",
      "4050/4050 [==============================] - 47s 12ms/step - loss: 4.7758 - acc: 0.3551 - val_loss: 2.6198 - val_acc: 0.5200\n",
      "\n",
      "Epoch 00001: val_loss improved from inf to 2.61980, saving model to keras_model\n",
      "Epoch 2/10\n",
      "4050/4050 [==============================] - 46s 11ms/step - loss: 1.3508 - acc: 0.6733 - val_loss: 0.9727 - val_acc: 0.6578\n",
      "\n",
      "Epoch 00002: val_loss improved from 2.61980 to 0.97270, saving model to keras_model\n",
      "Epoch 3/10\n",
      "4050/4050 [==============================] - 46s 11ms/step - loss: 0.7054 - acc: 0.7919 - val_loss: 0.7638 - val_acc: 0.7600\n",
      "\n",
      "Epoch 00003: val_loss improved from 0.97270 to 0.76383, saving model to keras_model\n",
      "Epoch 4/10\n",
      "4050/4050 [==============================] - 47s 11ms/step - loss: 0.4252 - acc: 0.8716 - val_loss: 0.8615 - val_acc: 0.6778\n",
      "\n",
      "Epoch 00004: val_loss did not improve\n",
      "Epoch 5/10\n",
      "4050/4050 [==============================] - 46s 11ms/step - loss: 0.3324 - acc: 0.8973 - val_loss: 0.4882 - val_acc: 0.8444\n",
      "\n",
      "Epoch 00005: val_loss improved from 0.76383 to 0.48820, saving model to keras_model\n",
      "Epoch 6/10\n",
      "4050/4050 [==============================] - 46s 11ms/step - loss: 0.4785 - acc: 0.8847 - val_loss: 0.4554 - val_acc: 0.8556\n",
      "\n",
      "Epoch 00006: val_loss improved from 0.48820 to 0.45536, saving model to keras_model\n",
      "Epoch 7/10\n",
      "4050/4050 [==============================] - 47s 12ms/step - loss: 0.1787 - acc: 0.9528 - val_loss: 0.4460 - val_acc: 0.8622\n",
      "\n",
      "Epoch 00007: val_loss improved from 0.45536 to 0.44604, saving model to keras_model\n",
      "Epoch 8/10\n",
      "4050/4050 [==============================] - 47s 12ms/step - loss: 0.2069 - acc: 0.9338 - val_loss: 0.6305 - val_acc: 0.8089\n",
      "\n",
      "Epoch 00008: val_loss did not improve\n",
      "Epoch 9/10\n",
      "4050/4050 [==============================] - 46s 11ms/step - loss: 0.1257 - acc: 0.9669 - val_loss: 0.4778 - val_acc: 0.8556\n",
      "\n",
      "Epoch 00009: val_loss did not improve\n",
      "Epoch 10/10\n",
      "4050/4050 [==============================] - 46s 11ms/step - loss: 0.0935 - acc: 0.9746 - val_loss: 0.9012 - val_acc: 0.7778\n",
      "\n",
      "Epoch 00010: val_loss did not improve\n"
     ]
    },
    {
     "data": {
      "text/plain": [
       "<keras.callbacks.History at 0x7f2b962aca90>"
      ]
     },
     "execution_count": 473,
     "metadata": {},
     "output_type": "execute_result"
    }
   ],
   "source": [
    "sequence_input = Input(shape=(MAX_SEQUENCE_LENGTH,), dtype='int32')\n",
    "embedded_sequences = embedding_layer(sequence_input)\n",
    "x = Conv1D(128, 5, activation='relu')(embedded_sequences)\n",
    "x = MaxPooling1D(5)(x)\n",
    "# x = Conv1D(128, 5, activation='relu')(x)\n",
    "# x = MaxPooling1D(5)(x)\n",
    "# x = Conv1D(128, 5, activation='relu')(x)\n",
    "# x = MaxPooling1D(35)(x)  # global max pooling\n",
    "x = Dropout(0.25)(x)\n",
    "x = Flatten()(x)\n",
    "x = Dense(128, activation='relu')(x)\n",
    "preds = Dense(len(category_dict), activation='softmax')(x)\n",
    "\n",
    "model = Model(sequence_input, preds)\n",
    "model.compile(loss='categorical_crossentropy',\n",
    "              optimizer='rmsprop',\n",
    "              metrics=['acc'])\n",
    "\n",
    "# happy learning!\n",
    "model.fit(x_train, y_train, validation_split=0.1, \n",
    "          epochs=10, batch_size=512, callbacks=[ckpt_callback])"
   ]
  },
  {
   "cell_type": "code",
   "execution_count": 503,
   "metadata": {},
   "outputs": [
    {
     "name": "stdout",
     "output_type": "stream",
     "text": [
      "500/500 [==============================] - 3s 5ms/step\n"
     ]
    },
    {
     "data": {
      "text/plain": [
       "[0.5528527736663819, 0.83]"
      ]
     },
     "execution_count": 503,
     "metadata": {},
     "output_type": "execute_result"
    }
   ],
   "source": [
    "keras_model = load_model('keras_model')\n",
    "keras_model.evaluate(x_test, y_test)"
   ]
  },
  {
   "cell_type": "code",
   "execution_count": 484,
   "metadata": {},
   "outputs": [
    {
     "name": "stdout",
     "output_type": "stream",
     "text": [
      "_________________________________________________________________\n",
      "Layer (type)                 Output Shape              Param #   \n",
      "=================================================================\n",
      "embedding_3 (Embedding)      (None, 5000, 100)         17528300  \n",
      "_________________________________________________________________\n",
      "lstm_5 (LSTM)                (None, 196)               232848    \n",
      "_________________________________________________________________\n",
      "dense_25 (Dense)             (None, 5)                 985       \n",
      "=================================================================\n",
      "Total params: 17,762,133\n",
      "Trainable params: 17,762,133\n",
      "Non-trainable params: 0\n",
      "_________________________________________________________________\n",
      "None\n"
     ]
    }
   ],
   "source": [
    "# embed_dim = 100\n",
    "lstm_out = 196\n",
    "\n",
    "# Model saving callback\n",
    "lstm_callback = ModelCheckpoint('lstm_model', \n",
    "                                 monitor='val_loss', \n",
    "                                 verbose=1, \n",
    "                                 save_best_only=True, \n",
    "                                 mode='auto')\n",
    "\n",
    "lstm_model = Sequential()\n",
    "lstm_model.add(embedding_layer)\n",
    "lstm_model.add(LSTM(lstm_out, recurrent_dropout=0.2, dropout=0.2))\n",
    "lstm_model.add(Dense(5,activation='softmax'))\n",
    "lstm_model.compile(loss = 'categorical_crossentropy', optimizer='adam', metrics = ['acc'])\n",
    "print(lstm_model.summary())"
   ]
  },
  {
   "cell_type": "code",
   "execution_count": null,
   "metadata": {},
   "outputs": [
    {
     "name": "stdout",
     "output_type": "stream",
     "text": [
      "Train on 4050 samples, validate on 450 samples\n",
      "Epoch 1/20\n",
      "4050/4050 [==============================] - 224s 55ms/step - loss: 1.4419 - acc: 0.4627 - val_loss: 1.1370 - val_acc: 0.6400\n",
      "\n",
      "Epoch 00001: val_loss improved from inf to 1.13701, saving model to lstm_model\n",
      "Epoch 2/20\n",
      "4050/4050 [==============================] - 219s 54ms/step - loss: 0.8628 - acc: 0.7143 - val_loss: 0.7540 - val_acc: 0.7156\n",
      "\n",
      "Epoch 00002: val_loss improved from 1.13701 to 0.75403, saving model to lstm_model\n",
      "Epoch 3/20\n",
      "4050/4050 [==============================] - 219s 54ms/step - loss: 0.6125 - acc: 0.7812 - val_loss: 0.6536 - val_acc: 0.7667\n",
      "\n",
      "Epoch 00003: val_loss improved from 0.75403 to 0.65361, saving model to lstm_model\n",
      "Epoch 4/20\n",
      "4050/4050 [==============================] - 221s 55ms/step - loss: 0.4946 - acc: 0.8281 - val_loss: 0.5911 - val_acc: 0.7844\n",
      "\n",
      "Epoch 00004: val_loss improved from 0.65361 to 0.59115, saving model to lstm_model\n",
      "Epoch 5/20\n",
      "4050/4050 [==============================] - 220s 54ms/step - loss: 0.4395 - acc: 0.8560 - val_loss: 0.5762 - val_acc: 0.7933\n",
      "\n",
      "Epoch 00005: val_loss improved from 0.59115 to 0.57622, saving model to lstm_model\n",
      "Epoch 6/20\n",
      "4050/4050 [==============================] - 222s 55ms/step - loss: 0.3792 - acc: 0.8719 - val_loss: 0.5854 - val_acc: 0.7978\n",
      "\n",
      "Epoch 00006: val_loss did not improve\n",
      "Epoch 7/20\n",
      "4050/4050 [==============================] - 221s 55ms/step - loss: 0.3521 - acc: 0.8847 - val_loss: 0.5882 - val_acc: 0.8067\n",
      "\n",
      "Epoch 00007: val_loss did not improve\n",
      "Epoch 8/20\n",
      "4050/4050 [==============================] - 222s 55ms/step - loss: 0.3207 - acc: 0.8975 - val_loss: 0.5701 - val_acc: 0.8133\n",
      "\n",
      "Epoch 00008: val_loss improved from 0.57622 to 0.57012, saving model to lstm_model\n",
      "Epoch 9/20\n",
      "4050/4050 [==============================] - 220s 54ms/step - loss: 0.2942 - acc: 0.9072 - val_loss: 0.5799 - val_acc: 0.8200\n",
      "\n",
      "Epoch 00009: val_loss did not improve\n",
      "Epoch 10/20\n",
      "4050/4050 [==============================] - 220s 54ms/step - loss: 0.2861 - acc: 0.9057 - val_loss: 0.5763 - val_acc: 0.8044\n",
      "\n",
      "Epoch 00010: val_loss did not improve\n",
      "Epoch 11/20\n",
      "4050/4050 [==============================] - 222s 55ms/step - loss: 0.2545 - acc: 0.9178 - val_loss: 0.5981 - val_acc: 0.7978\n",
      "\n",
      "Epoch 00011: val_loss did not improve\n",
      "Epoch 12/20\n",
      "4050/4050 [==============================] - 221s 55ms/step - loss: 0.2302 - acc: 0.9272 - val_loss: 0.5904 - val_acc: 0.8178\n",
      "\n",
      "Epoch 00012: val_loss did not improve\n",
      "Epoch 13/20\n",
      "4050/4050 [==============================] - 222s 55ms/step - loss: 0.2201 - acc: 0.9284 - val_loss: 0.5490 - val_acc: 0.8111\n",
      "\n",
      "Epoch 00013: val_loss improved from 0.57012 to 0.54901, saving model to lstm_model\n",
      "Epoch 14/20\n",
      "4050/4050 [==============================] - 219s 54ms/step - loss: 0.2417 - acc: 0.9215 - val_loss: 0.6178 - val_acc: 0.7889\n",
      "\n",
      "Epoch 00014: val_loss did not improve\n",
      "Epoch 15/20\n",
      "4050/4050 [==============================] - 220s 54ms/step - loss: 0.1969 - acc: 0.9400 - val_loss: 0.6610 - val_acc: 0.8089\n",
      "\n",
      "Epoch 00015: val_loss did not improve\n",
      "Epoch 16/20\n",
      "4050/4050 [==============================] - 220s 54ms/step - loss: 0.1971 - acc: 0.9353 - val_loss: 0.5945 - val_acc: 0.8133\n",
      "\n",
      "Epoch 00016: val_loss did not improve\n",
      "Epoch 17/20\n",
      "4050/4050 [==============================] - 221s 55ms/step - loss: 0.1741 - acc: 0.9452 - val_loss: 0.5830 - val_acc: 0.8044\n",
      "\n",
      "Epoch 00017: val_loss did not improve\n",
      "Epoch 18/20\n",
      "4050/4050 [==============================] - 223s 55ms/step - loss: 0.1547 - acc: 0.9521 - val_loss: 0.6230 - val_acc: 0.8089\n",
      "\n",
      "Epoch 00018: val_loss did not improve\n",
      "Epoch 19/20\n",
      "2048/4050 [==============>...............] - ETA: 1:44 - loss: 0.1355 - acc: 0.9614"
     ]
    }
   ],
   "source": [
    "lstm_model.fit(x_train, y_train, validation_split=0.1, verbose=1,\n",
    "          epochs=20, batch_size=512, callbacks=[lstm_callback])"
   ]
  },
  {
   "cell_type": "code",
   "execution_count": 486,
   "metadata": {},
   "outputs": [
    {
     "name": "stdout",
     "output_type": "stream",
     "text": [
      "500/500 [==============================] - 33s 66ms/step\n"
     ]
    },
    {
     "data": {
      "text/plain": [
       "[0.5823710279464722, 0.8100000004768372]"
      ]
     },
     "execution_count": 486,
     "metadata": {},
     "output_type": "execute_result"
    }
   ],
   "source": [
    "best_lstm_model = load_model('lstm_model')\n",
    "best_lstm_model.evaluate(x_test, y_test)"
   ]
  },
  {
   "cell_type": "code",
   "execution_count": 498,
   "metadata": {},
   "outputs": [
    {
     "name": "stdout",
     "output_type": "stream",
     "text": [
      "_________________________________________________________________\n",
      "Layer (type)                 Output Shape              Param #   \n",
      "=================================================================\n",
      "merge_4 (Merge)              (None, 324)               0         \n",
      "_________________________________________________________________\n",
      "dense_34 (Dense)             (None, 5)                 1625      \n",
      "=================================================================\n",
      "Total params: 51,722,945\n",
      "Trainable params: 51,722,945\n",
      "Non-trainable params: 0\n",
      "_________________________________________________________________\n",
      "None\n"
     ]
    },
    {
     "name": "stderr",
     "output_type": "stream",
     "text": [
      "/home/ajalloei/.conda/envs/ahmad_virtualenv/lib/python3.6/site-packages/ipykernel_launcher.py:20: UserWarning: The `Merge` layer is deprecated and will be removed after 08/2017. Use instead layers from `keras.layers.merge`, e.g. `add`, `concatenate`, etc.\n"
     ]
    }
   ],
   "source": [
    "embedding_layer1 = Embedding(len(word_index) + 1,\n",
    "                            EMBEDDING_DIM,\n",
    "                            weights=[embedding_matrix],\n",
    "                            input_length=MAX_SEQUENCE_LENGTH,\n",
    "                            trainable=True)\n",
    "cnn = Sequential()\n",
    "cnn.add(embedding_layer1)\n",
    "cnn.add(Conv1D(128, 5, activation='relu'))\n",
    "cnn.add(MaxPooling1D(5))\n",
    "cnn.add(Dropout(0.25))\n",
    "cnn.add(Flatten())\n",
    "cnn.add(Dense(128, activation='relu'))\n",
    "\n",
    "lstm_out = 196\n",
    "\n",
    "lstm = Sequential()\n",
    "lstm.add(embedding_layer)\n",
    "lstm.add(LSTM(lstm_out, recurrent_dropout=0.2, dropout=0.2))\n",
    "\n",
    "merged = Merge([cnn, lstm], mode='concat')\n",
    "\n",
    "merged_model = Sequential()\n",
    "merged_model.add(merged)\n",
    "merged_model.add(Dense(len(category_dict), activation='softmax'))\n",
    "# merged_model.add(Dropout(0.5))\n",
    "# merged_model.add(Dense(28, activation='relu'))\n",
    "# merged_model.add(Dense(input_dim=10, output_dim=classes))\n",
    "# merged_model.add(Activation(\"softmax\"))\n",
    "merged_model.compile(loss = 'categorical_crossentropy', optimizer='adam', metrics = ['acc'])\n",
    "print(merged_model.summary())"
   ]
  },
  {
   "cell_type": "code",
   "execution_count": 502,
   "metadata": {},
   "outputs": [
    {
     "name": "stdout",
     "output_type": "stream",
     "text": [
      "Train on 4050 samples, validate on 450 samples\n",
      "Epoch 1/10\n",
      "4050/4050 [==============================] - 250s 62ms/step - loss: 4.4642 - acc: 0.3007 - val_loss: 2.4140 - val_acc: 0.3711\n",
      "\n",
      "Epoch 00001: val_loss improved from inf to 2.41395, saving model to merged_model\n",
      "Epoch 2/10\n",
      "4050/4050 [==============================] - 243s 60ms/step - loss: 1.7234 - acc: 0.5521 - val_loss: 1.0846 - val_acc: 0.6711\n",
      "\n",
      "Epoch 00002: val_loss improved from 2.41395 to 1.08465, saving model to merged_model\n",
      "Epoch 3/10\n",
      "4050/4050 [==============================] - 246s 61ms/step - loss: 0.7507 - acc: 0.7598 - val_loss: 0.6483 - val_acc: 0.7733\n",
      "\n",
      "Epoch 00003: val_loss improved from 1.08465 to 0.64834, saving model to merged_model\n",
      "Epoch 4/10\n",
      "4050/4050 [==============================] - 246s 61ms/step - loss: 0.4488 - acc: 0.8627 - val_loss: 0.6033 - val_acc: 0.7867\n",
      "\n",
      "Epoch 00004: val_loss improved from 0.64834 to 0.60331, saving model to merged_model\n",
      "Epoch 5/10\n",
      "4050/4050 [==============================] - 246s 61ms/step - loss: 0.3062 - acc: 0.9091 - val_loss: 0.5933 - val_acc: 0.7911\n",
      "\n",
      "Epoch 00005: val_loss improved from 0.60331 to 0.59331, saving model to merged_model\n",
      "Epoch 6/10\n",
      "4050/4050 [==============================] - 248s 61ms/step - loss: 0.2236 - acc: 0.9358 - val_loss: 0.6394 - val_acc: 0.8156\n",
      "\n",
      "Epoch 00006: val_loss did not improve\n",
      "Epoch 7/10\n",
      "4050/4050 [==============================] - 248s 61ms/step - loss: 0.1721 - acc: 0.9440 - val_loss: 0.6089 - val_acc: 0.8133\n",
      "\n",
      "Epoch 00007: val_loss did not improve\n",
      "Epoch 8/10\n",
      "4050/4050 [==============================] - 247s 61ms/step - loss: 0.1462 - acc: 0.9563 - val_loss: 0.6057 - val_acc: 0.8200\n",
      "\n",
      "Epoch 00008: val_loss did not improve\n",
      "Epoch 9/10\n",
      "4050/4050 [==============================] - 249s 61ms/step - loss: 0.1254 - acc: 0.9620 - val_loss: 0.6381 - val_acc: 0.8111\n",
      "\n",
      "Epoch 00009: val_loss did not improve\n",
      "Epoch 10/10\n",
      "4050/4050 [==============================] - 254s 63ms/step - loss: 0.1055 - acc: 0.9679 - val_loss: 0.5985 - val_acc: 0.8133\n",
      "\n",
      "Epoch 00010: val_loss did not improve\n"
     ]
    },
    {
     "data": {
      "text/plain": [
       "<keras.callbacks.History at 0x7f2b95a324a8>"
      ]
     },
     "execution_count": 502,
     "metadata": {},
     "output_type": "execute_result"
    }
   ],
   "source": [
    "merged_callback = ModelCheckpoint('merged_model', \n",
    "                                 monitor='val_loss', \n",
    "                                 verbose=1, \n",
    "                                 save_best_only=True, \n",
    "                                 mode='auto')\n",
    "merged_model.fit([x_train, x_train], y_train, validation_split=0.1, verbose=1,\n",
    "          epochs=10, batch_size=512, callbacks=[merged_callback])"
   ]
  },
  {
   "cell_type": "code",
   "execution_count": 513,
   "metadata": {},
   "outputs": [],
   "source": [
    "sequence_input = Input(shape=(MAX_SEQUENCE_LENGTH,), dtype='int32')\n",
    "embedded_sequences = embedding_layer(sequence_input)\n",
    "x = Conv1D(128, 5, activation='relu')(embedded_sequences)\n",
    "x = MaxPooling1D(5)(x)\n",
    "x = Dropout(0.25)(x)\n",
    "# x = Flatten()(x)\n",
    "x = Dense(128, activation='relu')(x)\n",
    "x = LSTM(lstm_out, recurrent_dropout=0.25, dropout=0.25)(x)\n",
    "preds = Dense(len(category_dict), activation='softmax')(x)\n",
    "\n",
    "mixed_model = Model(sequence_input, preds)\n",
    "mixed_model.compile(loss = 'categorical_crossentropy', optimizer='adam', metrics = ['acc'])\n",
    "\n"
   ]
  },
  {
   "cell_type": "code",
   "execution_count": null,
   "metadata": {},
   "outputs": [
    {
     "name": "stdout",
     "output_type": "stream",
     "text": [
      "Train on 4050 samples, validate on 450 samples\n",
      "Epoch 1/15\n",
      "4050/4050 [==============================] - 86s 21ms/step - loss: 1.3689 - acc: 0.4881 - val_loss: 0.8911 - val_acc: 0.7267\n",
      "\n",
      "Epoch 00001: val_loss improved from inf to 0.89108, saving model to mixed_model1\n",
      "Epoch 2/15\n",
      "4050/4050 [==============================] - 84s 21ms/step - loss: 0.5549 - acc: 0.8341 - val_loss: 0.5255 - val_acc: 0.8400\n",
      "\n",
      "Epoch 00002: val_loss improved from 0.89108 to 0.52550, saving model to mixed_model1\n",
      "Epoch 3/15\n",
      "4050/4050 [==============================] - 83s 21ms/step - loss: 0.2463 - acc: 0.9175 - val_loss: 0.6100 - val_acc: 0.8178\n",
      "\n",
      "Epoch 00003: val_loss did not improve\n",
      "Epoch 4/15\n",
      "4050/4050 [==============================] - 84s 21ms/step - loss: 0.1408 - acc: 0.9600 - val_loss: 0.6401 - val_acc: 0.8156\n",
      "\n",
      "Epoch 00004: val_loss did not improve\n",
      "Epoch 5/15\n",
      "4050/4050 [==============================] - 84s 21ms/step - loss: 0.0865 - acc: 0.9709 - val_loss: 0.6233 - val_acc: 0.8067\n",
      "\n",
      "Epoch 00005: val_loss did not improve\n",
      "Epoch 6/15\n",
      "4050/4050 [==============================] - 84s 21ms/step - loss: 0.0685 - acc: 0.9760 - val_loss: 0.7155 - val_acc: 0.8156\n",
      "\n",
      "Epoch 00006: val_loss did not improve\n",
      "Epoch 7/15\n",
      "4050/4050 [==============================] - 85s 21ms/step - loss: 0.0535 - acc: 0.9837 - val_loss: 0.7042 - val_acc: 0.8156\n",
      "\n",
      "Epoch 00007: val_loss did not improve\n",
      "Epoch 8/15\n",
      "4050/4050 [==============================] - 84s 21ms/step - loss: 0.0453 - acc: 0.9852 - val_loss: 0.7632 - val_acc: 0.8156\n",
      "\n",
      "Epoch 00008: val_loss did not improve\n",
      "Epoch 9/15\n"
     ]
    }
   ],
   "source": [
    "mixed_callback = ModelCheckpoint('mixed_model1', \n",
    "                                 monitor='val_loss', \n",
    "                                 verbose=1, \n",
    "                                 save_best_only=True, \n",
    "                                 mode='auto')\n",
    "# happy learning!\n",
    "mixed_model.fit(x_train, y_train, validation_split=0.1, \n",
    "          epochs=15, batch_size=512, callbacks=[mixed_callback])"
   ]
  },
  {
   "cell_type": "code",
   "execution_count": 516,
   "metadata": {},
   "outputs": [
    {
     "name": "stdout",
     "output_type": "stream",
     "text": [
      "500/500 [==============================] - 8s 16ms/step\n"
     ]
    },
    {
     "data": {
      "text/plain": [
       "[0.5140607929229737, 0.7899999995231628]"
      ]
     },
     "execution_count": 516,
     "metadata": {},
     "output_type": "execute_result"
    }
   ],
   "source": [
    "best_mixed_model = load_model('mixed_model1')\n",
    "best_mixed_model.evaluate(x_test, y_test)"
   ]
  },
  {
   "cell_type": "code",
   "execution_count": 353,
   "metadata": {},
   "outputs": [
    {
     "data": {
      "image/png": "[encoded data removed]",
      "text/plain": [
       "<matplotlib.figure.Figure at 0x7f3579a05630>"
      ]
     },
     "metadata": {},
     "output_type": "display_data"
    }
   ],
   "source": [
    "l = [len(t) for t in corpus]\n",
    "plt.hist(l, bins=50);"
   ]
  },
  {
   "cell_type": "code",
   "execution_count": 29,
   "metadata": {},
   "outputs": [
    {
     "name": "stdout",
     "output_type": "stream",
     "text": [
      "_________________________________________________________________\n",
      "Layer (type)                 Output Shape              Param #   \n",
      "=================================================================\n",
      "input_8 (InputLayer)         (None, 5000)              0         \n",
      "_________________________________________________________________\n",
      "embedding_1 (Embedding)      (None, 5000, 100)         17528300  \n",
      "_________________________________________________________________\n",
      "conv1d_8 (Conv1D)            (None, 4996, 100)         50100     \n",
      "_________________________________________________________________\n",
      "max_pooling1d_8 (MaxPooling1 (None, 999, 100)          0         \n",
      "_________________________________________________________________\n",
      "dropout_8 (Dropout)          (None, 999, 100)          0         \n",
      "_________________________________________________________________\n",
      "flatten_8 (Flatten)          (None, 99900)             0         \n",
      "_________________________________________________________________\n",
      "dense_15 (Dense)             (None, 128)               12787328  \n",
      "_________________________________________________________________\n",
      "dense_16 (Dense)             (None, 5)                 645       \n",
      "=================================================================\n",
      "Total params: 30,366,373\n",
      "Trainable params: 30,366,373\n",
      "Non-trainable params: 0\n",
      "_________________________________________________________________\n"
     ]
    }
   ],
   "source": [
    "best_cnn_model = load_model('best_cnn_model')\n",
    "best_cnn_model.summary()"
   ]
  },
  {
   "cell_type": "code",
   "execution_count": 30,
   "metadata": {},
   "outputs": [
    {
     "name": "stdout",
     "output_type": "stream",
     "text": [
      "500/500 [==============================] - 1s 3ms/step\n"
     ]
    },
    {
     "data": {
      "text/plain": [
       "[0.642090087890625, 0.8160000009536743]"
      ]
     },
     "execution_count": 30,
     "metadata": {},
     "output_type": "execute_result"
    }
   ],
   "source": [
    "best_cnn_model.evaluate(x_test,y_test)"
   ]
  },
  {
   "cell_type": "code",
   "execution_count": null,
   "metadata": {},
   "outputs": [],
   "source": []
  }
 ],
 "metadata": {
  "kernelspec": {
   "display_name": "Python 3",
   "language": "python",
   "name": "python3"
  },
  "language_info": {
   "codemirror_mode": {
    "name": "ipython",
    "version": 3
   },
   "file_extension": ".py",
   "mimetype": "text/x-python",
   "name": "python",
   "nbconvert_exporter": "python",
   "pygments_lexer": "ipython3",
   "version": "3.6.4"
  }
 },
 "nbformat": 4,
 "nbformat_minor": 2
}
